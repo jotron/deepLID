{
 "cells": [
  {
   "cell_type": "markdown",
   "metadata": {},
   "source": [
    "# Test Model"
   ]
  },
  {
   "cell_type": "code",
   "execution_count": 3,
   "metadata": {},
   "outputs": [],
   "source": [
    "from keras.datasets import reuters\n",
    "from keras import models, layers\n",
    "import numpy as np\n",
    "import matplotlib.pyplot as plt\n",
    "from kapre.time_frequency import Melspectrogram"
   ]
  },
  {
   "cell_type": "markdown",
   "metadata": {},
   "source": [
    "### Load Data"
   ]
  },
  {
   "cell_type": "code",
   "execution_count": 4,
   "metadata": {},
   "outputs": [],
   "source": [
    "data_path='../data/data_15000.npy'\n",
    "labels_path = '../data/labels_15000.npy'"
   ]
  },
  {
   "cell_type": "code",
   "execution_count": 5,
   "metadata": {},
   "outputs": [],
   "source": [
    "data = np.load(data_path)\n",
    "labels = np.load(labels_path)"
   ]
  },
  {
   "cell_type": "code",
   "execution_count": 6,
   "metadata": {},
   "outputs": [],
   "source": [
    "#add \"channel dimension\"\n",
    "#audio data is always mono\n",
    "data = np.expand_dims(data, axis=1)"
   ]
  },
  {
   "cell_type": "markdown",
   "metadata": {},
   "source": [
    "### Split Data"
   ]
  },
  {
   "cell_type": "code",
   "execution_count": 8,
   "metadata": {},
   "outputs": [],
   "source": [
    "train_data = data[:7500]\n",
    "train_labels = labels[:7500]\n",
    "\n",
    "val_data = data[7500:11250]\n",
    "val_labels = labels[7500:11250]\n",
    "\n",
    "test_data = data[11250:]\n",
    "test_labels = labels[11250:]"
   ]
  },
  {
   "cell_type": "markdown",
   "metadata": {},
   "source": [
    "### Define Model\n",
    "\n",
    "Similar Architecture to [paper](https://github.com/twerkmeister/iLID/blob/master/Deep%20Audio%20Paper%20Thomas%20Werkmeister%2C%20Tom%20Herold.pdf)"
   ]
  },
  {
   "cell_type": "code",
   "execution_count": 10,
   "metadata": {},
   "outputs": [],
   "source": [
    "model = models.Sequential()\n",
    "model.add(Melspectrogram(n_dft=512, input_shape=(1, 5 * 16000,),\n",
    "                         padding='same', sr=16000, n_mels=28,\n",
    "                         fmin=0.0, fmax=10000, power_melgram=1.0,\n",
    "                         return_decibel_melgram=False, trainable_fb=False,\n",
    "                         trainable_kernel=False))\n",
    "model.add(layers.Conv2D(64, (3, 6), activation='relu'))\n",
    "model.add(layers.MaxPooling2D((2, 2)))\n",
    "model.add(layers.Conv2D(64, (3, 6), activation='relu'))\n",
    "model.add(layers.MaxPooling2D((2, 2)))\n",
    "model.add(layers.Conv2D(128, (3, 6), activation='relu'))\n",
    "model.add(layers.MaxPooling2D((2, 2)))\n",
    "model.add(layers.Flatten())\n",
    "model.add(layers.Dense(1024, activation='relu'))\n",
    "model.add(layers.Dense(3, activation='softmax'))"
   ]
  },
  {
   "cell_type": "code",
   "execution_count": 11,
   "metadata": {},
   "outputs": [
    {
     "name": "stdout",
     "output_type": "stream",
     "text": [
      "_________________________________________________________________\n",
      "Layer (type)                 Output Shape              Param #   \n",
      "=================================================================\n",
      "melspectrogram_2 (Melspectro (None, 28, 313, 1)        270364    \n",
      "_________________________________________________________________\n",
      "conv2d_4 (Conv2D)            (None, 26, 308, 64)       1216      \n",
      "_________________________________________________________________\n",
      "max_pooling2d_4 (MaxPooling2 (None, 13, 154, 64)       0         \n",
      "_________________________________________________________________\n",
      "conv2d_5 (Conv2D)            (None, 11, 149, 64)       73792     \n",
      "_________________________________________________________________\n",
      "max_pooling2d_5 (MaxPooling2 (None, 5, 74, 64)         0         \n",
      "_________________________________________________________________\n",
      "conv2d_6 (Conv2D)            (None, 3, 69, 128)        147584    \n",
      "_________________________________________________________________\n",
      "max_pooling2d_6 (MaxPooling2 (None, 1, 34, 128)        0         \n",
      "_________________________________________________________________\n",
      "flatten_2 (Flatten)          (None, 4352)              0         \n",
      "_________________________________________________________________\n",
      "dense_3 (Dense)              (None, 1024)              4457472   \n",
      "_________________________________________________________________\n",
      "dense_4 (Dense)              (None, 3)                 3075      \n",
      "=================================================================\n",
      "Total params: 4,953,503\n",
      "Trainable params: 4,683,139\n",
      "Non-trainable params: 270,364\n",
      "_________________________________________________________________\n"
     ]
    }
   ],
   "source": [
    "model.summary()"
   ]
  },
  {
   "cell_type": "code",
   "execution_count": 12,
   "metadata": {},
   "outputs": [],
   "source": [
    "model.compile(optimizer='Rmsprop',\n",
    "              metrics=['accuracy'],\n",
    "              loss='categorical_crossentropy')"
   ]
  },
  {
   "cell_type": "markdown",
   "metadata": {},
   "source": [
    "### Train Model"
   ]
  },
  {
   "cell_type": "code",
   "execution_count": 13,
   "metadata": {},
   "outputs": [
    {
     "name": "stdout",
     "output_type": "stream",
     "text": [
      "Train on 7500 samples, validate on 3750 samples\n",
      "Epoch 1/9\n",
      "7500/7500 [==============================] - 17s 2ms/step - loss: 1.0368 - acc: 0.4888 - val_loss: 1.0159 - val_acc: 0.5152\n",
      "Epoch 2/9\n",
      "7500/7500 [==============================] - 13s 2ms/step - loss: 0.8200 - acc: 0.6319 - val_loss: 1.1726 - val_acc: 0.4509\n",
      "Epoch 3/9\n",
      "7500/7500 [==============================] - 13s 2ms/step - loss: 0.6812 - acc: 0.7092 - val_loss: 0.9732 - val_acc: 0.6037\n",
      "Epoch 4/9\n",
      "7500/7500 [==============================] - 14s 2ms/step - loss: 0.5754 - acc: 0.7692 - val_loss: 0.7841 - val_acc: 0.6461\n",
      "Epoch 5/9\n",
      "7500/7500 [==============================] - 14s 2ms/step - loss: 0.4997 - acc: 0.8020 - val_loss: 0.5292 - val_acc: 0.7917\n",
      "Epoch 6/9\n",
      "7500/7500 [==============================] - 13s 2ms/step - loss: 0.4182 - acc: 0.8345 - val_loss: 0.8646 - val_acc: 0.6987\n",
      "Epoch 7/9\n",
      "7500/7500 [==============================] - 13s 2ms/step - loss: 0.3441 - acc: 0.8629 - val_loss: 0.6470 - val_acc: 0.7973\n",
      "Epoch 8/9\n",
      "7500/7500 [==============================] - 13s 2ms/step - loss: 0.3023 - acc: 0.8825 - val_loss: 0.8079 - val_acc: 0.7427\n",
      "Epoch 9/9\n",
      "7500/7500 [==============================] - 13s 2ms/step - loss: 0.2255 - acc: 0.9113 - val_loss: 0.7028 - val_acc: 0.7885\n"
     ]
    }
   ],
   "source": [
    "history = model.fit(train_data,\n",
    "                    train_labels,\n",
    "                    batch_size=64,\n",
    "                    epochs=9,\n",
    "                    validation_data=(val_data, val_labels))"
   ]
  },
  {
   "cell_type": "markdown",
   "metadata": {},
   "source": [
    "### Save Model\n",
    "78% Accuracy Test is not bad!!"
   ]
  },
  {
   "cell_type": "code",
   "execution_count": 15,
   "metadata": {},
   "outputs": [],
   "source": [
    "model.save('test.h5')"
   ]
  }
 ],
 "metadata": {
  "kernelspec": {
   "display_name": "Python 3",
   "language": "python",
   "name": "python3"
  },
  "language_info": {
   "codemirror_mode": {
    "name": "ipython",
    "version": 3
   },
   "file_extension": ".py",
   "mimetype": "text/x-python",
   "name": "python",
   "nbconvert_exporter": "python",
   "pygments_lexer": "ipython3",
   "version": "3.6.4"
  }
 },
 "nbformat": 4,
 "nbformat_minor": 2
}
