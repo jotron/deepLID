{
 "cells": [
  {
   "cell_type": "markdown",
   "metadata": {},
   "source": [
    "# \"Conv2d to rnn\""
   ]
  },
  {
   "cell_type": "code",
   "execution_count": 43,
   "metadata": {},
   "outputs": [],
   "source": [
    "from comet_ml import Experiment\n",
    "import keras\n",
    "from keras import models, layers\n",
    "import numpy as np\n",
    "import matplotlib.pyplot as plt\n",
    "from kapre.time_frequency import Melspectrogram\n",
    "from kapre.utils import Normalization2D\n",
    "import sys\n",
    "sys.path.append('../')\n",
    "from utils import DataFeed\n",
    "from keras.regularizers import l2\n",
    "from keras.optimizers import RMSprop"
   ]
  },
  {
   "cell_type": "markdown",
   "metadata": {},
   "source": [
    "### Load Data"
   ]
  },
  {
   "cell_type": "code",
   "execution_count": 3,
   "metadata": {},
   "outputs": [],
   "source": [
    "data_path='../preprocessing/preprocessed_data'"
   ]
  },
  {
   "cell_type": "code",
   "execution_count": null,
   "metadata": {},
   "outputs": [],
   "source": [
    "train_data, train_labels = DataFeed.Dataset.create(data_path, ['train/voxforge', 'train/youtube'], num=50000, use_premade=True)"
   ]
  },
  {
   "cell_type": "code",
   "execution_count": 41,
   "metadata": {},
   "outputs": [],
   "source": [
    "training_generator = DataFeed.DataGenerator(data_path, ['train/voxforge', 'train/youtube'], num=-1, batch_size=64)"
   ]
  },
  {
   "cell_type": "code",
   "execution_count": 4,
   "metadata": {},
   "outputs": [],
   "source": [
    "val_data, val_labels = DataFeed.Dataset.create(data_path, ['val/youtube', 'val/voxforge'], num=-1, shuffle=True)"
   ]
  },
  {
   "cell_type": "code",
   "execution_count": 5,
   "metadata": {},
   "outputs": [],
   "source": [
    "callbacks = [keras.callbacks.EarlyStopping(monitor='val_acc', patience=5),\n",
    "             keras.callbacks.ModelCheckpoint('conv2d_to_rnn.h5', monitor='val_loss', save_best_only=True)]"
   ]
  },
  {
   "cell_type": "markdown",
   "metadata": {},
   "source": [
    "### Simple First Model"
   ]
  },
  {
   "cell_type": "code",
   "execution_count": 42,
   "metadata": {},
   "outputs": [
    {
     "name": "stdout",
     "output_type": "stream",
     "text": [
      "_________________________________________________________________\n",
      "Layer (type)                 Output Shape              Param #   \n",
      "=================================================================\n",
      "melspectrogram_11 (Melspectr (None, 32, 313, 1)        271392    \n",
      "_________________________________________________________________\n",
      "normalization2d_10 (Normaliz (None, 32, 313, 1)        0         \n",
      "_________________________________________________________________\n",
      "conv2d_51 (Conv2D)           (None, 32, 313, 16)       272       \n",
      "_________________________________________________________________\n",
      "max_pooling2d_51 (MaxPooling (None, 16, 156, 16)       0         \n",
      "_________________________________________________________________\n",
      "batch_normalization_51 (Batc (None, 16, 156, 16)       64        \n",
      "_________________________________________________________________\n",
      "conv2d_52 (Conv2D)           (None, 16, 156, 32)       2080      \n",
      "_________________________________________________________________\n",
      "max_pooling2d_52 (MaxPooling (None, 8, 156, 32)        0         \n",
      "_________________________________________________________________\n",
      "batch_normalization_52 (Batc (None, 8, 156, 32)        128       \n",
      "_________________________________________________________________\n",
      "conv2d_53 (Conv2D)           (None, 8, 156, 32)        4128      \n",
      "_________________________________________________________________\n",
      "max_pooling2d_53 (MaxPooling (None, 4, 156, 32)        0         \n",
      "_________________________________________________________________\n",
      "batch_normalization_53 (Batc (None, 4, 156, 32)        128       \n",
      "_________________________________________________________________\n",
      "conv2d_54 (Conv2D)           (None, 4, 156, 64)        8256      \n",
      "_________________________________________________________________\n",
      "max_pooling2d_54 (MaxPooling (None, 2, 156, 64)        0         \n",
      "_________________________________________________________________\n",
      "batch_normalization_54 (Batc (None, 2, 156, 64)        256       \n",
      "_________________________________________________________________\n",
      "conv2d_55 (Conv2D)           (None, 2, 156, 64)        16448     \n",
      "_________________________________________________________________\n",
      "max_pooling2d_55 (MaxPooling (None, 1, 156, 64)        0         \n",
      "_________________________________________________________________\n",
      "batch_normalization_55 (Batc (None, 1, 156, 64)        256       \n",
      "_________________________________________________________________\n",
      "reshape_11 (Reshape)         (None, 156, 64)           0         \n",
      "_________________________________________________________________\n",
      "gru_6 (GRU)                  (None, 64)                24768     \n",
      "_________________________________________________________________\n",
      "dense_11 (Dense)             (None, 3)                 195       \n",
      "=================================================================\n",
      "Total params: 328,371\n",
      "Trainable params: 56,563\n",
      "Non-trainable params: 271,808\n",
      "_________________________________________________________________\n"
     ]
    }
   ],
   "source": [
    "weight_decay = 0.01\n",
    "\n",
    "model1 = models.Sequential()\n",
    "model1.add(Melspectrogram(n_dft=512, input_shape=(1, 5 * 16000,),\n",
    "                         padding='same', sr=16000, n_mels=32,\n",
    "                         fmin=0.0, fmax=5000, power_melgram=1.0,\n",
    "                         return_decibel_melgram=True, trainable_fb=False,\n",
    "                         trainable_kernel=False))\n",
    "model1.add(Normalization2D(str_axis='data_sample'))\n",
    "\n",
    "model1.add(layers.Conv2D(16, (4, 4), activation='relu', padding='same', kernel_regularizer=l2(weight_decay)))\n",
    "model1.add(layers.MaxPooling2D((2, 2 )))\n",
    "model1.add(layers.BatchNormalization())\n",
    "\n",
    "model1.add(layers.Conv2D(32, (2, 2), activation='relu', padding='same', kernel_regularizer=l2(weight_decay)))\n",
    "model1.add(layers.MaxPooling2D((2, 1)))\n",
    "model1.add(layers.BatchNormalization())\n",
    "\n",
    "model1.add(layers.Conv2D(32, (2, 2), activation='relu', padding='same', kernel_regularizer=l2(weight_decay)))\n",
    "model1.add(layers.MaxPooling2D((2, 1)))\n",
    "model1.add(layers.BatchNormalization())\n",
    "\n",
    "model1.add(layers.Conv2D(64, (2, 2), activation='relu', padding='same', kernel_regularizer=l2(weight_decay)))\n",
    "model1.add(layers.MaxPooling2D((2, 1)))\n",
    "model1.add(layers.BatchNormalization())\n",
    "\n",
    "model1.add(layers.Conv2D(64, (2, 2), activation='relu', padding='same', kernel_regularizer=l2(weight_decay)))\n",
    "model1.add(layers.MaxPooling2D((2, 1)))\n",
    "model1.add(layers.BatchNormalization())\n",
    "\n",
    "model1.add(layers.Reshape((-1, 64)))\n",
    "model1.add(layers.GRU(64, dropout=0.3))\n",
    "model1.add(layers.Dense(3, activation='softmax'))\n",
    "model1.summary()"
   ]
  },
  {
   "cell_type": "markdown",
   "metadata": {},
   "source": [
    "=> 94%"
   ]
  },
  {
   "cell_type": "markdown",
   "metadata": {},
   "source": [
    "### Model 2\n",
    "derived from https://github.com/YerevaNN/Spoken-language-identification/blob/master/theano/networks/tc_net_rnn_onernn.py"
   ]
  },
  {
   "cell_type": "code",
   "execution_count": null,
   "metadata": {
    "collapsed": true
   },
   "outputs": [],
   "source": [
    "shared_GRU = layers.CuDNNGRU(15)\n",
    "model = models.Sequential()\n",
    "model.add(Melspectrogram(n_dft=512, input_shape=(1, 5 * 16000,),\n",
    "                         padding='same', sr=16000, n_mels=223, n_hop=256,\n",
    "                         fmin=0.0, fmax=5500, power_melgram=1.0,\n",
    "                         return_decibel_melgram=False, trainable_fb=False,\n",
    "                         trainable_kernel=False))\n",
    "model.add(layers.Conv2D(16, (7, 7), activation='relu', padding='same'))\n",
    "model.add(layers.MaxPooling2D((3, 3 ), strides=(2,2), padding='same'))\n",
    "model.add(layers.BatchNormalization())\n",
    "\n",
    "model.add(layers.Conv2D(32, (5, 5), activation='relu', padding='same'))\n",
    "model.add(layers.MaxPooling2D((3, 3), strides=(2,2), padding='same'))\n",
    "model.add(layers.BatchNormalization())\n",
    "\n",
    "model.add(layers.Conv2D(32, (3, 3), activation='relu', padding='same'))\n",
    "model.add(layers.MaxPooling2D((3, 3), strides=(2,2), padding='same'))\n",
    "model.add(layers.BatchNormalization())\n",
    "\n",
    "model.add(layers.Conv2D(32, (3, 3), activation='relu', padding='same'))\n",
    "model.add(layers.MaxPooling2D((3, 3), strides=(2,2), padding='same'))\n",
    "model.add(layers.BatchNormalization())\n",
    "\n",
    "model.add(layers.Permute((3,2,1)))\n",
    "model.add(layers.TimeDistributed(shared_GRU))\n",
    "model.add(layers.Reshape((-1,)))\n",
    "model.add(layers.Dropout(0.3))\n",
    "model.add(layers.Dense(3, activation='softmax'))\n",
    "#model.summary()"
   ]
  },
  {
   "cell_type": "markdown",
   "metadata": {},
   "source": [
    "=> 91%"
   ]
  },
  {
   "cell_type": "markdown",
   "metadata": {},
   "source": [
    "### Model 3: Inception\n",
    "derived from https://github.com/HPI-DeepLearning/crnn-lid/blob/master/keras/models/inceptionv3_crnn.py"
   ]
  },
  {
   "cell_type": "code",
   "execution_count": 42,
   "metadata": {
    "collapsed": true
   },
   "outputs": [],
   "source": [
    "from keras.applications.inception_v3 import InceptionV3"
   ]
  },
  {
   "cell_type": "code",
   "execution_count": 68,
   "metadata": {
    "collapsed": true
   },
   "outputs": [],
   "source": [
    "input_tensor = layers.Input(shape=(1, 80000))\n",
    "x = Melspectrogram(n_dft=512,\n",
    "                   padding='same', sr=16000, n_mels=128, n_hop=256,\n",
    "                   fmin=0.0, fmax=5500, power_melgram=1.0,\n",
    "                   return_decibel_melgram=False, trainable_fb=False,\n",
    "                   trainable_kernel=False)(input_tensor)\n",
    "\n",
    "inception_model = InceptionV3(include_top=False, weights=None, input_tensor=x)\n",
    "\n",
    "x = inception_model.output\n",
    "\n",
    "#x = GlobalAveragePooling2D()(x)\n",
    "\n",
    "# (bs, y, x, c) --> (bs, x, y, c)\n",
    "x = layers.Permute((2, 1, 3))(x)\n",
    "\n",
    "# (bs, x, y, c) --> (bs, x, y * c)\n",
    "_a, _y, _c = [int(s) for s in x.shape[1:]]\n",
    "x = layers.Reshape((_a, _y*_c))(x)\n",
    "x = layers.wrappers.Bidirectional(layers.LSTM(64, return_sequences=False), merge_mode=\"concat\")(x)\n",
    "x = layers.Dense(3, activation='softmax')(x)\n",
    "\n",
    "model = models.Model(input_tensor, outputs=x)\n",
    "#model.summary()"
   ]
  },
  {
   "cell_type": "markdown",
   "metadata": {},
   "source": [
    "tooooo biiiigggg..."
   ]
  },
  {
   "cell_type": "markdown",
   "metadata": {},
   "source": [
    "### Model 3: MobileNet"
   ]
  },
  {
   "cell_type": "code",
   "execution_count": 55,
   "metadata": {
    "collapsed": true
   },
   "outputs": [],
   "source": [
    "from keras.applications.mobilenetv2 import MobileNetV2"
   ]
  },
  {
   "cell_type": "code",
   "execution_count": 69,
   "metadata": {
    "collapsed": true
   },
   "outputs": [
    {
     "ename": "KeyboardInterrupt",
     "evalue": "",
     "output_type": "error",
     "traceback": [
      "\u001b[0;31m---------------------------------------------------------------------------\u001b[0m",
      "\u001b[0;31mKeyboardInterrupt\u001b[0m                         Traceback (most recent call last)",
      "\u001b[0;32m<ipython-input-69-8a6ee800ad4a>\u001b[0m in \u001b[0;36m<module>\u001b[0;34m\u001b[0m\n\u001b[1;32m      7\u001b[0m \u001b[0;34m\u001b[0m\u001b[0m\n\u001b[1;32m      8\u001b[0m inception_model = MobileNetV2(include_top=False, weights=None, input_tensor=x,\n\u001b[0;32m----> 9\u001b[0;31m                             alpha=0.25, pooling=None)\n\u001b[0m\u001b[1;32m     10\u001b[0m \u001b[0;34m\u001b[0m\u001b[0m\n\u001b[1;32m     11\u001b[0m \u001b[0mx\u001b[0m \u001b[0;34m=\u001b[0m \u001b[0minception_model\u001b[0m\u001b[0;34m.\u001b[0m\u001b[0moutput\u001b[0m\u001b[0;34m\u001b[0m\u001b[0m\n",
      "\u001b[0;32m~/.local/share/virtualenvs/deepLID-EK_2eOdB/lib/python3.6/site-packages/keras/applications/__init__.py\u001b[0m in \u001b[0;36mwrapper\u001b[0;34m(*args, **kwargs)\u001b[0m\n\u001b[1;32m     26\u001b[0m             \u001b[0mkwargs\u001b[0m\u001b[0;34m[\u001b[0m\u001b[0;34m'models'\u001b[0m\u001b[0;34m]\u001b[0m \u001b[0;34m=\u001b[0m \u001b[0mmodels\u001b[0m\u001b[0;34m\u001b[0m\u001b[0m\n\u001b[1;32m     27\u001b[0m             \u001b[0mkwargs\u001b[0m\u001b[0;34m[\u001b[0m\u001b[0;34m'utils'\u001b[0m\u001b[0;34m]\u001b[0m \u001b[0;34m=\u001b[0m \u001b[0mutils\u001b[0m\u001b[0;34m\u001b[0m\u001b[0m\n\u001b[0;32m---> 28\u001b[0;31m         \u001b[0;32mreturn\u001b[0m \u001b[0mbase_fun\u001b[0m\u001b[0;34m(\u001b[0m\u001b[0;34m*\u001b[0m\u001b[0margs\u001b[0m\u001b[0;34m,\u001b[0m \u001b[0;34m**\u001b[0m\u001b[0mkwargs\u001b[0m\u001b[0;34m)\u001b[0m\u001b[0;34m\u001b[0m\u001b[0m\n\u001b[0m\u001b[1;32m     29\u001b[0m \u001b[0;34m\u001b[0m\u001b[0m\n\u001b[1;32m     30\u001b[0m     \u001b[0;32mreturn\u001b[0m \u001b[0mwrapper\u001b[0m\u001b[0;34m\u001b[0m\u001b[0m\n",
      "\u001b[0;32m~/.local/share/virtualenvs/deepLID-EK_2eOdB/lib/python3.6/site-packages/keras/applications/mobilenet_v2.py\u001b[0m in \u001b[0;36mMobileNetV2\u001b[0;34m(*args, **kwargs)\u001b[0m\n\u001b[1;32m      9\u001b[0m \u001b[0;34m@\u001b[0m\u001b[0mkeras_modules_injection\u001b[0m\u001b[0;34m\u001b[0m\u001b[0m\n\u001b[1;32m     10\u001b[0m \u001b[0;32mdef\u001b[0m \u001b[0mMobileNetV2\u001b[0m\u001b[0;34m(\u001b[0m\u001b[0;34m*\u001b[0m\u001b[0margs\u001b[0m\u001b[0;34m,\u001b[0m \u001b[0;34m**\u001b[0m\u001b[0mkwargs\u001b[0m\u001b[0;34m)\u001b[0m\u001b[0;34m:\u001b[0m\u001b[0;34m\u001b[0m\u001b[0m\n\u001b[0;32m---> 11\u001b[0;31m     \u001b[0;32mreturn\u001b[0m \u001b[0mmobilenet_v2\u001b[0m\u001b[0;34m.\u001b[0m\u001b[0mMobileNetV2\u001b[0m\u001b[0;34m(\u001b[0m\u001b[0;34m*\u001b[0m\u001b[0margs\u001b[0m\u001b[0;34m,\u001b[0m \u001b[0;34m**\u001b[0m\u001b[0mkwargs\u001b[0m\u001b[0;34m)\u001b[0m\u001b[0;34m\u001b[0m\u001b[0m\n\u001b[0m\u001b[1;32m     12\u001b[0m \u001b[0;34m\u001b[0m\u001b[0m\n\u001b[1;32m     13\u001b[0m \u001b[0;34m\u001b[0m\u001b[0m\n",
      "\u001b[0;32m~/.local/share/virtualenvs/deepLID-EK_2eOdB/lib/python3.6/site-packages/keras_applications/mobilenet_v2.py\u001b[0m in \u001b[0;36mMobileNetV2\u001b[0;34m(input_shape, alpha, depth_multiplier, include_top, weights, input_tensor, pooling, classes, **kwargs)\u001b[0m\n\u001b[1;32m    389\u001b[0m \u001b[0;34m\u001b[0m\u001b[0m\n\u001b[1;32m    390\u001b[0m     x = _inverted_res_block(x, filters=320, alpha=alpha, stride=1,\n\u001b[0;32m--> 391\u001b[0;31m                             expansion=6, block_id=16)\n\u001b[0m\u001b[1;32m    392\u001b[0m \u001b[0;34m\u001b[0m\u001b[0m\n\u001b[1;32m    393\u001b[0m     \u001b[0;31m# no alpha applied to last conv as stated in the paper:\u001b[0m\u001b[0;34m\u001b[0m\u001b[0;34m\u001b[0m\u001b[0m\n",
      "\u001b[0;32m~/.local/share/virtualenvs/deepLID-EK_2eOdB/lib/python3.6/site-packages/keras_applications/mobilenet_v2.py\u001b[0m in \u001b[0;36m_inverted_res_block\u001b[0;34m(inputs, expansion, stride, alpha, filters, block_id)\u001b[0m\n\u001b[1;32m    490\u001b[0m     x = layers.BatchNormalization(epsilon=1e-3,\n\u001b[1;32m    491\u001b[0m                                   \u001b[0mmomentum\u001b[0m\u001b[0;34m=\u001b[0m\u001b[0;36m0.999\u001b[0m\u001b[0;34m,\u001b[0m\u001b[0;34m\u001b[0m\u001b[0m\n\u001b[0;32m--> 492\u001b[0;31m                                   name=prefix + 'depthwise_BN')(x)\n\u001b[0m\u001b[1;32m    493\u001b[0m \u001b[0;34m\u001b[0m\u001b[0m\n\u001b[1;32m    494\u001b[0m     \u001b[0mx\u001b[0m \u001b[0;34m=\u001b[0m \u001b[0mlayers\u001b[0m\u001b[0;34m.\u001b[0m\u001b[0mReLU\u001b[0m\u001b[0;34m(\u001b[0m\u001b[0;36m6.\u001b[0m\u001b[0;34m,\u001b[0m \u001b[0mname\u001b[0m\u001b[0;34m=\u001b[0m\u001b[0mprefix\u001b[0m \u001b[0;34m+\u001b[0m \u001b[0;34m'depthwise_relu'\u001b[0m\u001b[0;34m)\u001b[0m\u001b[0;34m(\u001b[0m\u001b[0mx\u001b[0m\u001b[0;34m)\u001b[0m\u001b[0;34m\u001b[0m\u001b[0m\n",
      "\u001b[0;32m~/.local/share/virtualenvs/deepLID-EK_2eOdB/lib/python3.6/site-packages/keras/engine/base_layer.py\u001b[0m in \u001b[0;36m__call__\u001b[0;34m(self, inputs, **kwargs)\u001b[0m\n\u001b[1;32m    455\u001b[0m             \u001b[0;31m# Actually call the layer,\u001b[0m\u001b[0;34m\u001b[0m\u001b[0;34m\u001b[0m\u001b[0m\n\u001b[1;32m    456\u001b[0m             \u001b[0;31m# collecting output(s), mask(s), and shape(s).\u001b[0m\u001b[0;34m\u001b[0m\u001b[0;34m\u001b[0m\u001b[0m\n\u001b[0;32m--> 457\u001b[0;31m             \u001b[0moutput\u001b[0m \u001b[0;34m=\u001b[0m \u001b[0mself\u001b[0m\u001b[0;34m.\u001b[0m\u001b[0mcall\u001b[0m\u001b[0;34m(\u001b[0m\u001b[0minputs\u001b[0m\u001b[0;34m,\u001b[0m \u001b[0;34m**\u001b[0m\u001b[0mkwargs\u001b[0m\u001b[0;34m)\u001b[0m\u001b[0;34m\u001b[0m\u001b[0m\n\u001b[0m\u001b[1;32m    458\u001b[0m             \u001b[0moutput_mask\u001b[0m \u001b[0;34m=\u001b[0m \u001b[0mself\u001b[0m\u001b[0;34m.\u001b[0m\u001b[0mcompute_mask\u001b[0m\u001b[0;34m(\u001b[0m\u001b[0minputs\u001b[0m\u001b[0;34m,\u001b[0m \u001b[0mprevious_mask\u001b[0m\u001b[0;34m)\u001b[0m\u001b[0;34m\u001b[0m\u001b[0m\n\u001b[1;32m    459\u001b[0m \u001b[0;34m\u001b[0m\u001b[0m\n",
      "\u001b[0;32m~/.local/share/virtualenvs/deepLID-EK_2eOdB/lib/python3.6/site-packages/keras/layers/normalization.py\u001b[0m in \u001b[0;36mcall\u001b[0;34m(self, inputs, training)\u001b[0m\n\u001b[1;32m    198\u001b[0m                          K.moving_average_update(self.moving_variance,\n\u001b[1;32m    199\u001b[0m                                                  \u001b[0mvariance\u001b[0m\u001b[0;34m,\u001b[0m\u001b[0;34m\u001b[0m\u001b[0m\n\u001b[0;32m--> 200\u001b[0;31m                                                  self.momentum)],\n\u001b[0m\u001b[1;32m    201\u001b[0m                         inputs)\n\u001b[1;32m    202\u001b[0m \u001b[0;34m\u001b[0m\u001b[0m\n",
      "\u001b[0;32m~/.local/share/virtualenvs/deepLID-EK_2eOdB/lib/python3.6/site-packages/keras/backend/tensorflow_backend.py\u001b[0m in \u001b[0;36mmoving_average_update\u001b[0;34m(x, value, momentum)\u001b[0m\n\u001b[1;32m   1012\u001b[0m     \"\"\"\n\u001b[1;32m   1013\u001b[0m     return moving_averages.assign_moving_average(\n\u001b[0;32m-> 1014\u001b[0;31m         x, value, momentum, zero_debias=True)\n\u001b[0m\u001b[1;32m   1015\u001b[0m \u001b[0;34m\u001b[0m\u001b[0m\n\u001b[1;32m   1016\u001b[0m \u001b[0;34m\u001b[0m\u001b[0m\n",
      "\u001b[0;32m~/.local/share/virtualenvs/deepLID-EK_2eOdB/lib/python3.6/site-packages/tensorflow/python/training/moving_averages.py\u001b[0m in \u001b[0;36massign_moving_average\u001b[0;34m(variable, value, decay, zero_debias, name)\u001b[0m\n\u001b[1;32m     87\u001b[0m         \u001b[0mdecay\u001b[0m \u001b[0;34m=\u001b[0m \u001b[0mmath_ops\u001b[0m\u001b[0;34m.\u001b[0m\u001b[0mcast\u001b[0m\u001b[0;34m(\u001b[0m\u001b[0mdecay\u001b[0m\u001b[0;34m,\u001b[0m \u001b[0mvariable\u001b[0m\u001b[0;34m.\u001b[0m\u001b[0mdtype\u001b[0m\u001b[0;34m.\u001b[0m\u001b[0mbase_dtype\u001b[0m\u001b[0;34m)\u001b[0m\u001b[0;34m\u001b[0m\u001b[0m\n\u001b[1;32m     88\u001b[0m       \u001b[0;32mif\u001b[0m \u001b[0mzero_debias\u001b[0m\u001b[0;34m:\u001b[0m\u001b[0;34m\u001b[0m\u001b[0m\n\u001b[0;32m---> 89\u001b[0;31m         \u001b[0mupdate_delta\u001b[0m \u001b[0;34m=\u001b[0m \u001b[0m_zero_debias\u001b[0m\u001b[0;34m(\u001b[0m\u001b[0mvariable\u001b[0m\u001b[0;34m,\u001b[0m \u001b[0mvalue\u001b[0m\u001b[0;34m,\u001b[0m \u001b[0mdecay\u001b[0m\u001b[0;34m)\u001b[0m\u001b[0;34m\u001b[0m\u001b[0m\n\u001b[0m\u001b[1;32m     90\u001b[0m       \u001b[0;32melse\u001b[0m\u001b[0;34m:\u001b[0m\u001b[0;34m\u001b[0m\u001b[0m\n\u001b[1;32m     91\u001b[0m         \u001b[0mupdate_delta\u001b[0m \u001b[0;34m=\u001b[0m \u001b[0;34m(\u001b[0m\u001b[0mvariable\u001b[0m \u001b[0;34m-\u001b[0m \u001b[0mvalue\u001b[0m\u001b[0;34m)\u001b[0m \u001b[0;34m*\u001b[0m \u001b[0mdecay\u001b[0m\u001b[0;34m\u001b[0m\u001b[0m\n",
      "\u001b[0;32m~/.local/share/virtualenvs/deepLID-EK_2eOdB/lib/python3.6/site-packages/tensorflow/python/training/moving_averages.py\u001b[0m in \u001b[0;36m_zero_debias\u001b[0;34m(unbiased_var, value, decay)\u001b[0m\n\u001b[1;32m    209\u001b[0m         \u001b[0;32mreturn\u001b[0m \u001b[0mname\u001b[0m \u001b[0;34m+\u001b[0m \u001b[0;34m(\u001b[0m\u001b[0;34m\"_%d\"\u001b[0m \u001b[0;34m%\u001b[0m \u001b[0midx\u001b[0m\u001b[0;34m)\u001b[0m\u001b[0;34m\u001b[0m\u001b[0m\n\u001b[1;32m    210\u001b[0m       biased_var = variable_scope.get_variable(\n\u001b[0;32m--> 211\u001b[0;31m           \u001b[0m_maybe_get_unique\u001b[0m\u001b[0;34m(\u001b[0m\u001b[0;34m\"biased\"\u001b[0m\u001b[0;34m)\u001b[0m\u001b[0;34m,\u001b[0m \u001b[0minitializer\u001b[0m\u001b[0;34m=\u001b[0m\u001b[0mbiased_initializer\u001b[0m\u001b[0;34m,\u001b[0m\u001b[0;34m\u001b[0m\u001b[0m\n\u001b[0m\u001b[1;32m    212\u001b[0m           trainable=False)\n\u001b[1;32m    213\u001b[0m       local_step = variable_scope.get_variable(\n",
      "\u001b[0;32m~/.local/share/virtualenvs/deepLID-EK_2eOdB/lib/python3.6/site-packages/tensorflow/python/training/moving_averages.py\u001b[0m in \u001b[0;36m_maybe_get_unique\u001b[0;34m(name)\u001b[0m\n\u001b[1;32m    201\u001b[0m           \u001b[0;32mreturn\u001b[0m \u001b[0mname\u001b[0m\u001b[0;34m\u001b[0m\u001b[0m\n\u001b[1;32m    202\u001b[0m         vs_vars = [x.op.name for x in\n\u001b[0;32m--> 203\u001b[0;31m                    variable_scope.get_variable_scope().global_variables()]\n\u001b[0m\u001b[1;32m    204\u001b[0m         \u001b[0mfull_name\u001b[0m \u001b[0;34m=\u001b[0m \u001b[0mvariable_scope\u001b[0m\u001b[0;34m.\u001b[0m\u001b[0mget_variable_scope\u001b[0m\u001b[0;34m(\u001b[0m\u001b[0;34m)\u001b[0m\u001b[0;34m.\u001b[0m\u001b[0mname\u001b[0m \u001b[0;34m+\u001b[0m \u001b[0;34m\"/\"\u001b[0m \u001b[0;34m+\u001b[0m \u001b[0mname\u001b[0m\u001b[0;34m\u001b[0m\u001b[0m\n\u001b[1;32m    205\u001b[0m         \u001b[0;32mif\u001b[0m \u001b[0mfull_name\u001b[0m \u001b[0;32mnot\u001b[0m \u001b[0;32min\u001b[0m \u001b[0mvs_vars\u001b[0m\u001b[0;34m:\u001b[0m \u001b[0;32mreturn\u001b[0m \u001b[0mname\u001b[0m\u001b[0;34m\u001b[0m\u001b[0m\n",
      "\u001b[0;32m~/.local/share/virtualenvs/deepLID-EK_2eOdB/lib/python3.6/site-packages/tensorflow/python/ops/variable_scope.py\u001b[0m in \u001b[0;36mglobal_variables\u001b[0;34m(self)\u001b[0m\n\u001b[1;32m   1139\u001b[0m   \u001b[0;32mdef\u001b[0m \u001b[0mglobal_variables\u001b[0m\u001b[0;34m(\u001b[0m\u001b[0mself\u001b[0m\u001b[0;34m)\u001b[0m\u001b[0;34m:\u001b[0m\u001b[0;34m\u001b[0m\u001b[0m\n\u001b[1;32m   1140\u001b[0m     \u001b[0;34m\"\"\"Get this scope's global variables.\"\"\"\u001b[0m\u001b[0;34m\u001b[0m\u001b[0m\n\u001b[0;32m-> 1141\u001b[0;31m     \u001b[0;32mreturn\u001b[0m \u001b[0mself\u001b[0m\u001b[0;34m.\u001b[0m\u001b[0mget_collection\u001b[0m\u001b[0;34m(\u001b[0m\u001b[0mops\u001b[0m\u001b[0;34m.\u001b[0m\u001b[0mGraphKeys\u001b[0m\u001b[0;34m.\u001b[0m\u001b[0mGLOBAL_VARIABLES\u001b[0m\u001b[0;34m)\u001b[0m\u001b[0;34m\u001b[0m\u001b[0m\n\u001b[0m\u001b[1;32m   1142\u001b[0m \u001b[0;34m\u001b[0m\u001b[0m\n\u001b[1;32m   1143\u001b[0m   \u001b[0;32mdef\u001b[0m \u001b[0mlocal_variables\u001b[0m\u001b[0;34m(\u001b[0m\u001b[0mself\u001b[0m\u001b[0;34m)\u001b[0m\u001b[0;34m:\u001b[0m\u001b[0;34m\u001b[0m\u001b[0m\n",
      "\u001b[0;32m~/.local/share/virtualenvs/deepLID-EK_2eOdB/lib/python3.6/site-packages/tensorflow/python/ops/variable_scope.py\u001b[0m in \u001b[0;36mget_collection\u001b[0;34m(self, name)\u001b[0m\n\u001b[1;32m   1131\u001b[0m     \u001b[0;34m\"\"\"Get this scope's variables.\"\"\"\u001b[0m\u001b[0;34m\u001b[0m\u001b[0m\n\u001b[1;32m   1132\u001b[0m     \u001b[0mscope\u001b[0m \u001b[0;34m=\u001b[0m \u001b[0mself\u001b[0m\u001b[0;34m.\u001b[0m\u001b[0m_name\u001b[0m \u001b[0;34m+\u001b[0m \u001b[0;34m\"/\"\u001b[0m \u001b[0;32mif\u001b[0m \u001b[0mself\u001b[0m\u001b[0;34m.\u001b[0m\u001b[0m_name\u001b[0m \u001b[0;32melse\u001b[0m \u001b[0;34m\"\"\u001b[0m\u001b[0;34m\u001b[0m\u001b[0m\n\u001b[0;32m-> 1133\u001b[0;31m     \u001b[0;32mreturn\u001b[0m \u001b[0mops\u001b[0m\u001b[0;34m.\u001b[0m\u001b[0mget_collection\u001b[0m\u001b[0;34m(\u001b[0m\u001b[0mname\u001b[0m\u001b[0;34m,\u001b[0m \u001b[0mscope\u001b[0m\u001b[0;34m)\u001b[0m\u001b[0;34m\u001b[0m\u001b[0m\n\u001b[0m\u001b[1;32m   1134\u001b[0m \u001b[0;34m\u001b[0m\u001b[0m\n\u001b[1;32m   1135\u001b[0m   \u001b[0;32mdef\u001b[0m \u001b[0mtrainable_variables\u001b[0m\u001b[0;34m(\u001b[0m\u001b[0mself\u001b[0m\u001b[0;34m)\u001b[0m\u001b[0;34m:\u001b[0m\u001b[0;34m\u001b[0m\u001b[0m\n",
      "\u001b[0;32m~/.local/share/virtualenvs/deepLID-EK_2eOdB/lib/python3.6/site-packages/tensorflow/python/framework/ops.py\u001b[0m in \u001b[0;36mget_collection\u001b[0;34m(key, scope)\u001b[0m\n\u001b[1;32m   5672\u001b[0m   \u001b[0;34m@\u001b[0m\u001b[0mend_compatibility\u001b[0m\u001b[0;34m\u001b[0m\u001b[0m\n\u001b[1;32m   5673\u001b[0m   \"\"\"\n\u001b[0;32m-> 5674\u001b[0;31m   \u001b[0;32mreturn\u001b[0m \u001b[0mget_default_graph\u001b[0m\u001b[0;34m(\u001b[0m\u001b[0;34m)\u001b[0m\u001b[0;34m.\u001b[0m\u001b[0mget_collection\u001b[0m\u001b[0;34m(\u001b[0m\u001b[0mkey\u001b[0m\u001b[0;34m,\u001b[0m \u001b[0mscope\u001b[0m\u001b[0;34m)\u001b[0m\u001b[0;34m\u001b[0m\u001b[0m\n\u001b[0m\u001b[1;32m   5675\u001b[0m \u001b[0;34m\u001b[0m\u001b[0m\n\u001b[1;32m   5676\u001b[0m \u001b[0;34m\u001b[0m\u001b[0m\n",
      "\u001b[0;32m~/.local/share/virtualenvs/deepLID-EK_2eOdB/lib/python3.6/site-packages/tensorflow/python/framework/ops.py\u001b[0m in \u001b[0;36mget_collection\u001b[0;34m(self, name, scope)\u001b[0m\n\u001b[1;32m   3692\u001b[0m         \u001b[0mregex\u001b[0m \u001b[0;34m=\u001b[0m \u001b[0mre\u001b[0m\u001b[0;34m.\u001b[0m\u001b[0mcompile\u001b[0m\u001b[0;34m(\u001b[0m\u001b[0mscope\u001b[0m\u001b[0;34m)\u001b[0m\u001b[0;34m\u001b[0m\u001b[0m\n\u001b[1;32m   3693\u001b[0m         \u001b[0;32mfor\u001b[0m \u001b[0mitem\u001b[0m \u001b[0;32min\u001b[0m \u001b[0mcollection\u001b[0m\u001b[0;34m:\u001b[0m\u001b[0;34m\u001b[0m\u001b[0m\n\u001b[0;32m-> 3694\u001b[0;31m           \u001b[0;32mif\u001b[0m \u001b[0mhasattr\u001b[0m\u001b[0;34m(\u001b[0m\u001b[0mitem\u001b[0m\u001b[0;34m,\u001b[0m \u001b[0;34m\"name\"\u001b[0m\u001b[0;34m)\u001b[0m \u001b[0;32mand\u001b[0m \u001b[0mregex\u001b[0m\u001b[0;34m.\u001b[0m\u001b[0mmatch\u001b[0m\u001b[0;34m(\u001b[0m\u001b[0mitem\u001b[0m\u001b[0;34m.\u001b[0m\u001b[0mname\u001b[0m\u001b[0;34m)\u001b[0m\u001b[0;34m:\u001b[0m\u001b[0;34m\u001b[0m\u001b[0m\n\u001b[0m\u001b[1;32m   3695\u001b[0m             \u001b[0mc\u001b[0m\u001b[0;34m.\u001b[0m\u001b[0mappend\u001b[0m\u001b[0;34m(\u001b[0m\u001b[0mitem\u001b[0m\u001b[0;34m)\u001b[0m\u001b[0;34m\u001b[0m\u001b[0m\n\u001b[1;32m   3696\u001b[0m         \u001b[0;32mreturn\u001b[0m \u001b[0mc\u001b[0m\u001b[0;34m\u001b[0m\u001b[0m\n",
      "\u001b[0;32m~/.local/share/virtualenvs/deepLID-EK_2eOdB/lib/python3.6/site-packages/tensorflow/python/ops/variables.py\u001b[0m in \u001b[0;36mname\u001b[0;34m(self)\u001b[0m\n\u001b[1;32m    986\u001b[0m   \u001b[0;32mdef\u001b[0m \u001b[0mname\u001b[0m\u001b[0;34m(\u001b[0m\u001b[0mself\u001b[0m\u001b[0;34m)\u001b[0m\u001b[0;34m:\u001b[0m\u001b[0;34m\u001b[0m\u001b[0m\n\u001b[1;32m    987\u001b[0m     \u001b[0;34m\"\"\"The name of this variable.\"\"\"\u001b[0m\u001b[0;34m\u001b[0m\u001b[0m\n\u001b[0;32m--> 988\u001b[0;31m     \u001b[0;32mreturn\u001b[0m \u001b[0mself\u001b[0m\u001b[0;34m.\u001b[0m\u001b[0m_variable\u001b[0m\u001b[0;34m.\u001b[0m\u001b[0mname\u001b[0m\u001b[0;34m\u001b[0m\u001b[0m\n\u001b[0m\u001b[1;32m    989\u001b[0m \u001b[0;34m\u001b[0m\u001b[0m\n\u001b[1;32m    990\u001b[0m   \u001b[0;34m@\u001b[0m\u001b[0mproperty\u001b[0m\u001b[0;34m\u001b[0m\u001b[0m\n",
      "\u001b[0;32m~/.local/share/virtualenvs/deepLID-EK_2eOdB/lib/python3.6/site-packages/tensorflow/python/framework/ops.py\u001b[0m in \u001b[0;36mname\u001b[0;34m(self)\u001b[0m\n\u001b[1;32m    326\u001b[0m     \u001b[0;32mif\u001b[0m \u001b[0;32mnot\u001b[0m \u001b[0mself\u001b[0m\u001b[0;34m.\u001b[0m\u001b[0m_op\u001b[0m\u001b[0;34m.\u001b[0m\u001b[0mname\u001b[0m\u001b[0;34m:\u001b[0m\u001b[0;34m\u001b[0m\u001b[0m\n\u001b[1;32m    327\u001b[0m       \u001b[0;32mraise\u001b[0m \u001b[0mValueError\u001b[0m\u001b[0;34m(\u001b[0m\u001b[0;34m\"Operation was not named: %s\"\u001b[0m \u001b[0;34m%\u001b[0m \u001b[0mself\u001b[0m\u001b[0;34m.\u001b[0m\u001b[0m_op\u001b[0m\u001b[0;34m)\u001b[0m\u001b[0;34m\u001b[0m\u001b[0m\n\u001b[0;32m--> 328\u001b[0;31m     \u001b[0;32mreturn\u001b[0m \u001b[0;34m\"%s:%d\"\u001b[0m \u001b[0;34m%\u001b[0m \u001b[0;34m(\u001b[0m\u001b[0mself\u001b[0m\u001b[0;34m.\u001b[0m\u001b[0m_op\u001b[0m\u001b[0;34m.\u001b[0m\u001b[0mname\u001b[0m\u001b[0;34m,\u001b[0m \u001b[0mself\u001b[0m\u001b[0;34m.\u001b[0m\u001b[0m_value_index\u001b[0m\u001b[0;34m)\u001b[0m\u001b[0;34m\u001b[0m\u001b[0m\n\u001b[0m\u001b[1;32m    329\u001b[0m \u001b[0;34m\u001b[0m\u001b[0m\n\u001b[1;32m    330\u001b[0m   \u001b[0;34m@\u001b[0m\u001b[0mproperty\u001b[0m\u001b[0;34m\u001b[0m\u001b[0m\n",
      "\u001b[0;31mKeyboardInterrupt\u001b[0m: "
     ]
    }
   ],
   "source": [
    "input_tensor = layers.Input(shape=(1, 80000))\n",
    "x = Melspectrogram(n_dft=512,\n",
    "                   padding='same', sr=16000, n_mels=223, n_hop=360,\n",
    "                   fmin=0.0, fmax=5500, power_melgram=1.0,\n",
    "                   return_decibel_melgram=False, trainable_fb=False,\n",
    "                   trainable_kernel=False)(input_tensor)\n",
    "\n",
    "inception_model = MobileNetV2(include_top=False, weights=None, input_tensor=x,\n",
    "                            alpha=0.25, pooling=None)\n",
    "\n",
    "x = inception_model.output\n",
    "\n",
    "#x = GlobalAveragePooling2D()(x)\n",
    "\n",
    "# (bs, y, x, c) --> (bs, x, y, c)\n",
    "x = layers.Permute((2, 1, 3))(x)\n",
    "\n",
    "# (bs, x, y, c) --> (bs, x, y * c)\n",
    "_a, _y, _c = [int(s) for s in x.shape[1:]]\n",
    "x = layers.Reshape((_a, _y*_c))(x)\n",
    "x = layers.GRU(64, return_sequences=False, dropout=0.5)(x)\n",
    "x = layers.Dense(3, activation='softmax')(x)\n",
    "\n",
    "model = models.Model(input_tensor, outputs=x)\n",
    "#model.summary()"
   ]
  },
  {
   "cell_type": "markdown",
   "metadata": {},
   "source": [
    "## Train"
   ]
  },
  {
   "cell_type": "code",
   "execution_count": 44,
   "metadata": {},
   "outputs": [
    {
     "name": "stdout",
     "output_type": "stream",
     "text": [
      "Epoch 1/15\n",
      "1250/1250 [==============================] - 258s 206ms/step - loss: 1.2462 - acc: 0.5465 - mean_absolute_error: 0.3669 - val_loss: 1.0210 - val_acc: 0.6514 - val_mean_absolute_error: 0.2920\n",
      "Epoch 2/15\n",
      "1250/1250 [==============================] - 230s 184ms/step - loss: 0.7507 - acc: 0.7711 - mean_absolute_error: 0.2157 - val_loss: 0.8393 - val_acc: 0.7560 - val_mean_absolute_error: 0.2050\n",
      "Epoch 3/15\n",
      "1250/1250 [==============================] - 232s 185ms/step - loss: 0.5619 - acc: 0.8561 - mean_absolute_error: 0.1387 - val_loss: 0.5620 - val_acc: 0.8500 - val_mean_absolute_error: 0.1463\n",
      "Epoch 4/15\n",
      "1250/1250 [==============================] - 230s 184ms/step - loss: 0.4582 - acc: 0.8912 - mean_absolute_error: 0.1047 - val_loss: 0.4023 - val_acc: 0.9114 - val_mean_absolute_error: 0.0835\n",
      "Epoch 5/15\n",
      "1250/1250 [==============================] - 232s 186ms/step - loss: 0.4120 - acc: 0.9057 - mean_absolute_error: 0.0907 - val_loss: 0.5286 - val_acc: 0.8717 - val_mean_absolute_error: 0.1114\n",
      "Epoch 6/15\n",
      "1250/1250 [==============================] - 231s 185ms/step - loss: 0.3841 - acc: 0.9129 - mean_absolute_error: 0.0836 - val_loss: 0.4915 - val_acc: 0.8671 - val_mean_absolute_error: 0.1223\n",
      "Epoch 7/15\n",
      "1250/1250 [==============================] - 229s 183ms/step - loss: 0.3626 - acc: 0.9186 - mean_absolute_error: 0.0783 - val_loss: 0.4742 - val_acc: 0.8688 - val_mean_absolute_error: 0.1111\n",
      "Epoch 8/15\n",
      "1250/1250 [==============================] - 229s 183ms/step - loss: 0.3500 - acc: 0.9211 - mean_absolute_error: 0.0751 - val_loss: 0.8516 - val_acc: 0.7740 - val_mean_absolute_error: 0.1662\n",
      "Epoch 9/15\n",
      "1250/1250 [==============================] - 230s 184ms/step - loss: 0.3365 - acc: 0.9252 - mean_absolute_error: 0.0718 - val_loss: 0.3185 - val_acc: 0.9294 - val_mean_absolute_error: 0.0653\n",
      "Epoch 10/15\n",
      "1250/1250 [==============================] - 227s 182ms/step - loss: 0.3306 - acc: 0.9267 - mean_absolute_error: 0.0702 - val_loss: 0.3491 - val_acc: 0.9136 - val_mean_absolute_error: 0.0851\n",
      "Epoch 11/15\n",
      "1250/1250 [==============================] - 232s 185ms/step - loss: 0.3230 - acc: 0.9291 - mean_absolute_error: 0.0684 - val_loss: 0.4208 - val_acc: 0.8876 - val_mean_absolute_error: 0.1109\n",
      "Epoch 12/15\n",
      "1250/1250 [==============================] - 232s 186ms/step - loss: 0.3179 - acc: 0.9290 - mean_absolute_error: 0.0683 - val_loss: 0.3528 - val_acc: 0.9160 - val_mean_absolute_error: 0.0749\n",
      "Epoch 13/15\n",
      "1250/1250 [==============================] - 234s 187ms/step - loss: 0.3108 - acc: 0.9314 - mean_absolute_error: 0.0664 - val_loss: 0.3280 - val_acc: 0.9213 - val_mean_absolute_error: 0.0738\n",
      "Epoch 14/15\n",
      "1250/1250 [==============================] - 233s 186ms/step - loss: 0.3039 - acc: 0.9330 - mean_absolute_error: 0.0644 - val_loss: 0.3014 - val_acc: 0.9353 - val_mean_absolute_error: 0.0573\n",
      "Epoch 15/15\n",
      "1250/1250 [==============================] - 232s 186ms/step - loss: 0.3036 - acc: 0.9326 - mean_absolute_error: 0.0650 - val_loss: 0.3608 - val_acc: 0.9090 - val_mean_absolute_error: 0.0837\n"
     ]
    }
   ],
   "source": [
    "model1.compile(optimizer=RMSprop(lr=0.001),\n",
    "              metrics=['accuracy', 'mae'],\n",
    "              loss='categorical_crossentropy')\n",
    "\n",
    "history = model1.fit_generator(generator=training_generator,\n",
    "                              epochs=15,\n",
    "                              validation_data=(val_data, val_labels), \n",
    "                              shuffle=True,\n",
    "                              use_multiprocessing=True,\n",
    "                              workers=8,\n",
    "                              max_queue_size=20,          \n",
    "                              callbacks=[keras.callbacks.ModelCheckpoint('conv2d_to_rnn.h5', monitor='val_loss', save_best_only=True)])"
   ]
  },
  {
   "cell_type": "code",
   "execution_count": 45,
   "metadata": {},
   "outputs": [
    {
     "name": "stdout",
     "output_type": "stream",
     "text": [
      "Epoch 1/5\n",
      "1250/1250 [==============================] - 236s 189ms/step - loss: 0.2246 - acc: 0.9594 - mean_absolute_error: 0.0413 - val_loss: 0.2035 - val_acc: 0.9631 - val_mean_absolute_error: 0.0362\n",
      "Epoch 2/5\n",
      "1250/1250 [==============================] - 229s 183ms/step - loss: 0.1886 - acc: 0.9668 - mean_absolute_error: 0.0334 - val_loss: 0.1861 - val_acc: 0.9644 - val_mean_absolute_error: 0.0339\n",
      "Epoch 3/5\n",
      "1250/1250 [==============================] - 231s 184ms/step - loss: 0.1721 - acc: 0.9693 - mean_absolute_error: 0.0310 - val_loss: 0.1906 - val_acc: 0.9611 - val_mean_absolute_error: 0.0358\n",
      "Epoch 4/5\n",
      "1250/1250 [==============================] - 229s 183ms/step - loss: 0.1580 - acc: 0.9711 - mean_absolute_error: 0.0290 - val_loss: 0.1665 - val_acc: 0.9648 - val_mean_absolute_error: 0.0325\n",
      "Epoch 5/5\n",
      "1250/1250 [==============================] - 229s 183ms/step - loss: 0.1479 - acc: 0.9726 - mean_absolute_error: 0.0274 - val_loss: 0.1620 - val_acc: 0.9672 - val_mean_absolute_error: 0.0297\n"
     ]
    }
   ],
   "source": [
    "model1.compile(optimizer=RMSprop(lr=0.0001),\n",
    "              metrics=['accuracy', 'mae'],\n",
    "              loss='categorical_crossentropy')\n",
    "\n",
    "history = model1.fit_generator(generator=training_generator,\n",
    "                              epochs=5,\n",
    "                              validation_data=(val_data, val_labels), \n",
    "                              shuffle=True,\n",
    "                              use_multiprocessing=True,\n",
    "                              workers=8,\n",
    "                              max_queue_size=20,          \n",
    "                              callbacks=[keras.callbacks.ModelCheckpoint('conv2d_to_rnn.h5', monitor='val_loss', save_best_only=True)])"
   ]
  },
  {
   "cell_type": "code",
   "execution_count": 47,
   "metadata": {},
   "outputs": [
    {
     "name": "stdout",
     "output_type": "stream",
     "text": [
      "Epoch 1/5\n",
      "1249/1250 [============================>.] - ETA: 0s - loss: 0.1418 - acc: 0.9735 - mean_absolute_error: 0.0265\n",
      "1250/1250 [==============================] - 251s 201ms/step - loss: 0.1418 - acc: 0.9735 - mean_absolute_error: 0.0265 - val_loss: 0.1597 - val_acc: 0.9660 - val_mean_absolute_error: 0.0297\n",
      "Epoch 2/5\n",
      "1250/1250 [==============================] - 231s 185ms/step - loss: 0.1355 - acc: 0.9745 - mean_absolute_error: 0.0258 - val_loss: 0.1623 - val_acc: 0.9656 - val_mean_absolute_error: 0.0295\n",
      "Epoch 3/5\n",
      "1250/1250 [==============================] - 228s 183ms/step - loss: 0.1285 - acc: 0.9756 - mean_absolute_error: 0.0245 - val_loss: 0.1485 - val_acc: 0.9692 - val_mean_absolute_error: 0.0277\n",
      "Epoch 4/5\n",
      "1250/1250 [==============================] - 230s 184ms/step - loss: 0.1244 - acc: 0.9762 - mean_absolute_error: 0.0240 - val_loss: 0.1542 - val_acc: 0.9650 - val_mean_absolute_error: 0.0297\n",
      "Epoch 5/5\n",
      "1250/1250 [==============================] - 230s 184ms/step - loss: 0.1209 - acc: 0.9769 - mean_absolute_error: 0.0232 - val_loss: 0.1538 - val_acc: 0.9647 - val_mean_absolute_error: 0.0288\n"
     ]
    }
   ],
   "source": [
    "model1.compile(optimizer=RMSprop(lr=0.0001),\n",
    "              metrics=['accuracy', 'mae'],\n",
    "              loss='categorical_crossentropy')\n",
    "\n",
    "history = model1.fit_generator(generator=training_generator,\n",
    "                              epochs=5,\n",
    "                              validation_data=(val_data, val_labels), \n",
    "                              shuffle=True,\n",
    "                              use_multiprocessing=True,\n",
    "                              workers=8,\n",
    "                              max_queue_size=20,          \n",
    "                              callbacks=[keras.callbacks.ModelCheckpoint('conv2d_to_rnn.h5', monitor='val_loss', save_best_only=True)])"
   ]
  },
  {
   "cell_type": "code",
   "execution_count": 49,
   "metadata": {},
   "outputs": [
    {
     "name": "stdout",
     "output_type": "stream",
     "text": [
      "int_axis=0 passed but is ignored, str_axis is used instead.\n",
      "10000/10000 [==============================] - 25s 3ms/step\n"
     ]
    },
    {
     "data": {
      "text/plain": [
       "([0.1806356432557106, 0.9583, 0.03331518059950322],\n",
       " ['loss', 'acc', 'mean_absolute_error'])"
      ]
     },
     "execution_count": 49,
     "metadata": {},
     "output_type": "execute_result"
    }
   ],
   "source": [
    "best_model = keras.models.load_model('conv2d_to_rnn.h5', custom_objects={'Melspectrogram':Melspectrogram, \n",
    "                                                                         'Normalization2D': Normalization2D})\n",
    "test_data, test_labels = DataFeed.Dataset.create(data_path, ['test/voxforge', 'test/youtube'], num=-1, shuffle=True)\n",
    "best_model.evaluate(x=test_data,\n",
    "                    y=test_labels), best_model.metrics_names"
   ]
  }
 ],
 "metadata": {
  "kernelspec": {
   "display_name": "Python 3",
   "language": "python",
   "name": "python3"
  },
  "language_info": {
   "codemirror_mode": {
    "name": "ipython",
    "version": 3
   },
   "file_extension": ".py",
   "mimetype": "text/x-python",
   "name": "python",
   "nbconvert_exporter": "python",
   "pygments_lexer": "ipython3",
   "version": "3.6.7"
  }
 },
 "nbformat": 4,
 "nbformat_minor": 2
}
