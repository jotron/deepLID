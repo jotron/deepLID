{
 "cells": [
  {
   "cell_type": "markdown",
   "metadata": {},
   "source": [
    "# \"Berlin Net\""
   ]
  },
  {
   "cell_type": "code",
   "execution_count": 1,
   "metadata": {},
   "outputs": [
    {
     "name": "stderr",
     "output_type": "stream",
     "text": [
      "Using TensorFlow backend.\n"
     ]
    }
   ],
   "source": [
    "from comet_ml import Experiment\n",
    "import keras\n",
    "from keras import models, layers\n",
    "import numpy as np\n",
    "import matplotlib.pyplot as plt\n",
    "from kapre.time_frequency import Melspectrogram\n",
    "from kapre.utils import Normalization2D\n",
    "import sys\n",
    "sys.path.append('../')\n",
    "from utils import DataFeed\n",
    "from keras import regularizers"
   ]
  },
  {
   "cell_type": "markdown",
   "metadata": {},
   "source": [
    "### Load Data"
   ]
  },
  {
   "cell_type": "code",
   "execution_count": 2,
   "metadata": {},
   "outputs": [],
   "source": [
    "data_path = '../preprocessing/preprocessed_data'"
   ]
  },
  {
   "cell_type": "code",
   "execution_count": 3,
   "metadata": {},
   "outputs": [],
   "source": [
    "train_data, train_labels = DataFeed.Dataset.create(data_path, ['train/voxforge', 'train/youtube'], num=50000, use_premade=False)"
   ]
  },
  {
   "cell_type": "code",
   "execution_count": 4,
   "metadata": {},
   "outputs": [],
   "source": [
    "val_data, val_labels = DataFeed.Dataset.create(data_path, ['val/youtube', 'val/voxforge'], num=-1, shuffle=True)"
   ]
  },
  {
   "cell_type": "code",
   "execution_count": 4,
   "metadata": {},
   "outputs": [],
   "source": [
    "training_generator = DataFeed.DataGenerator(data_path, ['train/voxforge', 'train/youtube'], num=-1, batch_size=16)"
   ]
  },
  {
   "cell_type": "code",
   "execution_count": 5,
   "metadata": {},
   "outputs": [],
   "source": [
    "callbacks = [keras.callbacks.EarlyStopping(monitor='val_acc', patience=5),\n",
    "             keras.callbacks.ModelCheckpoint('berlin_net.h5', monitor='val_loss', save_best_only=True)]"
   ]
  },
  {
   "cell_type": "markdown",
   "metadata": {},
   "source": [
    "### Save Model"
   ]
  },
  {
   "cell_type": "markdown",
   "metadata": {},
   "source": [
    "### Define Model\n",
    "\n",
    "Similar Architecture to [paper](https://github.com/twerkmeister/iLID/blob/master/Deep%20Audio%20Paper%20Thomas%20Werkmeister%2C%20Tom%20Herold.pdf)\n",
    "#### Changes:\n",
    "- add dropout\n",
    "- no pooling stride\n",
    "- remove batch normalization"
   ]
  },
  {
   "cell_type": "code",
   "execution_count": 13,
   "metadata": {},
   "outputs": [],
   "source": [
    "model = models.Sequential()\n",
    "model.add(Melspectrogram(n_dft=512, input_shape=(1, 5 * 16000,),\n",
    "                         padding='same', sr=16000, n_mels=28,\n",
    "                         fmin=0.0, fmax=10000, power_melgram=1.0,\n",
    "                         return_decibel_melgram=True, trainable_fb=False,\n",
    "                         trainable_kernel=False))\n",
    "model.add(Normalization2D(str_axis='data_sample'))\n",
    "model.add(layers.Conv2D(64, (3, 3), activation='relu'))\n",
    "model.add(layers.MaxPooling2D((2, 2)))\n",
    "model.add(layers.Conv2D(64, (3, 3), activation='relu'))\n",
    "model.add(layers.MaxPooling2D((2, 2)))\n",
    "model.add(layers.Conv2D(128, (3, 3), activation='relu'))\n",
    "model.add(layers.MaxPooling2D((2, 2)))\n",
    "model.add(layers.Dropout(0.3))\n",
    "model.add(layers.Flatten())\n",
    "model.add(layers.Dense(1024, activation='relu'))\n",
    "model.add(layers.Dense(3, activation='softmax'))"
   ]
  },
  {
   "cell_type": "code",
   "execution_count": 14,
   "metadata": {
    "scrolled": false
   },
   "outputs": [
    {
     "name": "stdout",
     "output_type": "stream",
     "text": [
      "_________________________________________________________________\n",
      "Layer (type)                 Output Shape              Param #   \n",
      "=================================================================\n",
      "melspectrogram_3 (Melspectro (None, 28, 313, 1)        270364    \n",
      "_________________________________________________________________\n",
      "normalization2d_3 (Normaliza (None, 28, 313, 1)        0         \n",
      "_________________________________________________________________\n",
      "conv2d_7 (Conv2D)            (None, 26, 311, 64)       640       \n",
      "_________________________________________________________________\n",
      "max_pooling2d_7 (MaxPooling2 (None, 13, 155, 64)       0         \n",
      "_________________________________________________________________\n",
      "conv2d_8 (Conv2D)            (None, 11, 153, 64)       36928     \n",
      "_________________________________________________________________\n",
      "max_pooling2d_8 (MaxPooling2 (None, 5, 76, 64)         0         \n",
      "_________________________________________________________________\n",
      "conv2d_9 (Conv2D)            (None, 3, 74, 128)        73856     \n",
      "_________________________________________________________________\n",
      "max_pooling2d_9 (MaxPooling2 (None, 1, 37, 128)        0         \n",
      "_________________________________________________________________\n",
      "dropout_3 (Dropout)          (None, 1, 37, 128)        0         \n",
      "_________________________________________________________________\n",
      "flatten_3 (Flatten)          (None, 4736)              0         \n",
      "_________________________________________________________________\n",
      "dense_5 (Dense)              (None, 1024)              4850688   \n",
      "_________________________________________________________________\n",
      "dense_6 (Dense)              (None, 3)                 3075      \n",
      "=================================================================\n",
      "Total params: 5,235,551\n",
      "Trainable params: 4,965,187\n",
      "Non-trainable params: 270,364\n",
      "_________________________________________________________________\n"
     ]
    }
   ],
   "source": [
    "model.summary()"
   ]
  },
  {
   "cell_type": "code",
   "execution_count": 15,
   "metadata": {},
   "outputs": [],
   "source": [
    "model.compile(optimizer='RMSprop',\n",
    "              metrics=['accuracy'],\n",
    "              loss='categorical_crossentropy')"
   ]
  },
  {
   "cell_type": "markdown",
   "metadata": {},
   "source": [
    "### Train Model from Dataset"
   ]
  },
  {
   "cell_type": "code",
   "execution_count": 16,
   "metadata": {},
   "outputs": [
    {
     "name": "stderr",
     "output_type": "stream",
     "text": [
      "COMET INFO: Experiment is live on comet.ml https://www.comet.ml/jotron/berlinnetmelbn/4a73f9a68f8f41b5bf5f2b0c4f45c454\n",
      "\n",
      "COMET INFO: Experiment is live on comet.ml https://www.comet.ml/jotron/berlinnetmelbn/cf46c6503c6947c5bbfba3513f3adac0\n",
      "\n"
     ]
    }
   ],
   "source": [
    "experiment = Experiment(api_key=\"P9qHCZEUF514fowP4zfVDbGBl\",\n",
    "                      project_name=\"BerlinNetMelBn\", workspace=\"jotron\")"
   ]
  },
  {
   "cell_type": "code",
   "execution_count": 17,
   "metadata": {
    "scrolled": false
   },
   "outputs": [
    {
     "name": "stdout",
     "output_type": "stream",
     "text": [
      "Train on 50000 samples, validate on 10000 samples\n",
      "Epoch 1/15\n",
      "50000/50000 [==============================] - 40s 809us/step - loss: 0.9267 - acc: 0.5576 - val_loss: 0.7771 - val_acc: 0.6720\n",
      "Epoch 2/15\n",
      "50000/50000 [==============================] - 40s 806us/step - loss: 0.5906 - acc: 0.7531 - val_loss: 0.3685 - val_acc: 0.8574\n",
      "Epoch 3/15\n",
      "50000/50000 [==============================] - 40s 807us/step - loss: 0.4304 - acc: 0.8284 - val_loss: 0.3951 - val_acc: 0.8665\n",
      "Epoch 4/15\n",
      "50000/50000 [==============================] - 40s 805us/step - loss: 0.3460 - acc: 0.8657 - val_loss: 0.6321 - val_acc: 0.7670\n",
      "Epoch 5/15\n",
      "50000/50000 [==============================] - 40s 808us/step - loss: 0.2973 - acc: 0.8849 - val_loss: 0.4883 - val_acc: 0.8325\n",
      "Epoch 6/15\n",
      "50000/50000 [==============================] - 41s 813us/step - loss: 0.2594 - acc: 0.9016 - val_loss: 0.2646 - val_acc: 0.8997\n",
      "Epoch 7/15\n",
      "50000/50000 [==============================] - 41s 822us/step - loss: 0.2271 - acc: 0.9140 - val_loss: 0.4494 - val_acc: 0.8409\n",
      "Epoch 8/15\n",
      "50000/50000 [==============================] - 41s 827us/step - loss: 0.2075 - acc: 0.9222 - val_loss: 0.2338 - val_acc: 0.9197\n",
      "Epoch 9/15\n",
      "50000/50000 [==============================] - 42s 837us/step - loss: 0.1913 - acc: 0.9286 - val_loss: 0.4155 - val_acc: 0.8498\n",
      "Epoch 10/15\n",
      "50000/50000 [==============================] - 42s 841us/step - loss: 0.1816 - acc: 0.9339 - val_loss: 0.2563 - val_acc: 0.9062\n",
      "Epoch 11/15\n",
      "50000/50000 [==============================] - 42s 841us/step - loss: 0.1690 - acc: 0.9384 - val_loss: 0.2038 - val_acc: 0.9296\n",
      "Epoch 12/15\n",
      "50000/50000 [==============================] - 42s 840us/step - loss: 0.1636 - acc: 0.9408 - val_loss: 0.2314 - val_acc: 0.9181\n",
      "Epoch 13/15\n",
      "50000/50000 [==============================] - 42s 838us/step - loss: 0.1577 - acc: 0.9440 - val_loss: 0.3365 - val_acc: 0.9039\n",
      "Epoch 14/15\n",
      "50000/50000 [==============================] - 42s 836us/step - loss: 0.1579 - acc: 0.9449 - val_loss: 0.2209 - val_acc: 0.9292\n",
      "Epoch 15/15\n",
      "50000/50000 [==============================] - 42s 849us/step - loss: 0.1435 - acc: 0.9488 - val_loss: 0.2291 - val_acc: 0.9401\n"
     ]
    }
   ],
   "source": [
    "with experiment.train():\n",
    "    history = model.fit(x=train_data,\n",
    "                            y=train_labels,\n",
    "                            batch_size=128, \n",
    "                            epochs=15,\n",
    "                            validation_data=(val_data, val_labels), \n",
    "                            shuffle=True,\n",
    "                            callbacks=callbacks)"
   ]
  },
  {
   "cell_type": "code",
   "execution_count": 18,
   "metadata": {},
   "outputs": [
    {
     "name": "stdout",
     "output_type": "stream",
     "text": [
      "Train on 50000 samples, validate on 10000 samples\n",
      "Epoch 1/5\n",
      "50000/50000 [==============================] - 42s 846us/step - loss: 0.1484 - acc: 0.9495 - val_loss: 0.2290 - val_acc: 0.9124\n",
      "Epoch 2/5\n",
      "50000/50000 [==============================] - 42s 834us/step - loss: 0.1434 - acc: 0.9511 - val_loss: 0.3009 - val_acc: 0.9244\n",
      "Epoch 3/5\n",
      "50000/50000 [==============================] - 41s 829us/step - loss: 0.1435 - acc: 0.9514 - val_loss: 0.2013 - val_acc: 0.9364\n",
      "Epoch 4/5\n",
      "50000/50000 [==============================] - 41s 816us/step - loss: 0.1411 - acc: 0.9518 - val_loss: 0.3251 - val_acc: 0.8978\n",
      "Epoch 5/5\n",
      "50000/50000 [==============================] - 41s 818us/step - loss: 0.1454 - acc: 0.9511 - val_loss: 0.3285 - val_acc: 0.9005\n"
     ]
    }
   ],
   "source": [
    "with experiment.train():\n",
    "    history = model.fit(x=train_data,\n",
    "                            y=train_labels,\n",
    "                            batch_size=128, \n",
    "                            epochs=5,\n",
    "                            validation_data=(val_data, val_labels), \n",
    "                            shuffle=True,\n",
    "                            callbacks=callbacks)"
   ]
  },
  {
   "cell_type": "code",
   "execution_count": 19,
   "metadata": {},
   "outputs": [
    {
     "name": "stderr",
     "output_type": "stream",
     "text": [
      "COMET INFO: Uploading stats to Comet before program termination (may take several seconds)\n",
      "COMET INFO: Experiment is live on comet.ml https://www.comet.ml/jotron/berlinnetmelbn/cf46c6503c6947c5bbfba3513f3adac0\n",
      "\n"
     ]
    }
   ],
   "source": [
    "experiment.end()"
   ]
  },
  {
   "cell_type": "markdown",
   "metadata": {},
   "source": [
    "### Train Model from Generator"
   ]
  },
  {
   "cell_type": "code",
   "execution_count": 10,
   "metadata": {},
   "outputs": [
    {
     "name": "stdout",
     "output_type": "stream",
     "text": [
      "Epoch 1/13\n",
      "5000/5000 [==============================] - 101s 20ms/step - loss: 0.6019 - acc: 0.7438 - val_loss: 0.4206 - val_acc: 0.8541\n",
      "Epoch 2/13\n",
      "5000/5000 [==============================] - 97s 19ms/step - loss: 0.4359 - acc: 0.8385 - val_loss: 0.3105 - val_acc: 0.8794\n",
      "Epoch 3/13\n",
      "5000/5000 [==============================] - 97s 19ms/step - loss: 0.4637 - acc: 0.8321 - val_loss: 0.3587 - val_acc: 0.8626\n",
      "Epoch 4/13\n",
      "5000/5000 [==============================] - 97s 19ms/step - loss: 0.5119 - acc: 0.8193 - val_loss: 0.4357 - val_acc: 0.8262\n",
      "Epoch 5/13\n",
      "5000/5000 [==============================] - 97s 19ms/step - loss: 0.5632 - acc: 0.8059 - val_loss: 0.3853 - val_acc: 0.8526\n",
      "Epoch 6/13\n",
      "5000/5000 [==============================] - 97s 19ms/step - loss: 0.6234 - acc: 0.7877 - val_loss: 1.6882 - val_acc: 0.4533\n",
      "Epoch 7/13\n",
      "5000/5000 [==============================] - 97s 19ms/step - loss: 0.6400 - acc: 0.7838 - val_loss: 0.4819 - val_acc: 0.8219\n"
     ]
    }
   ],
   "source": [
    "history = model.fit_generator(generator=training_generator,\n",
    "                        epochs=13,\n",
    "                        validation_data=(val_data, val_labels), \n",
    "                        shuffle=True,\n",
    "                        use_multiprocessing=True,\n",
    "                        workers=8,\n",
    "                        max_queue_size=20,          \n",
    "                        callbacks=callbacks)"
   ]
  }
 ],
 "metadata": {
  "kernelspec": {
   "display_name": "Python 3",
   "language": "python",
   "name": "python3"
  },
  "language_info": {
   "codemirror_mode": {
    "name": "ipython",
    "version": 3
   },
   "file_extension": ".py",
   "mimetype": "text/x-python",
   "name": "python",
   "nbconvert_exporter": "python",
   "pygments_lexer": "ipython3",
   "version": "3.6.7"
  }
 },
 "nbformat": 4,
 "nbformat_minor": 2
}
