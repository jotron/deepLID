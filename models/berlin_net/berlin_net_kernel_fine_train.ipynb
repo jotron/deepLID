{
 "cells": [
  {
   "cell_type": "markdown",
   "metadata": {},
   "source": [
    "## Preparation"
   ]
  },
  {
   "cell_type": "code",
   "execution_count": 1,
   "metadata": {},
   "outputs": [
    {
     "name": "stderr",
     "output_type": "stream",
     "text": [
      "Using TensorFlow backend.\n"
     ]
    }
   ],
   "source": [
    "from comet_ml import Experiment\n",
    "import keras\n",
    "from keras import models, layers\n",
    "from keras.optimizers import RMSprop\n",
    "import numpy as np\n",
    "from kapre.time_frequency import Melspectrogram\n",
    "from kapre.augmentation import AdditiveNoise\n",
    "from kapre.utils import Normalization2D\n",
    "from keras import regularizers\n",
    "\n",
    "import sys\n",
    "import os\n",
    "sys.path.append('../')\n",
    "from utils import DataFeed"
   ]
  },
  {
   "cell_type": "code",
   "execution_count": 2,
   "metadata": {
    "collapsed": true
   },
   "outputs": [],
   "source": [
    "# to avoid different initizialization of weights\n",
    "np.random.seed(42)"
   ]
  },
  {
   "cell_type": "markdown",
   "metadata": {},
   "source": [
    "## Data"
   ]
  },
  {
   "cell_type": "code",
   "execution_count": 3,
   "metadata": {},
   "outputs": [],
   "source": [
    "data_path = '../preprocessing/preprocessed_data'\n",
    "\n",
    "train_data, train_labels = DataFeed.Dataset.create(data_path, ['train/voxforge', 'train/youtube'], num=50000, use_premade=True)\n",
    "val_data, val_labels = DataFeed.Dataset.create(data_path, ['val/youtube', 'val/voxforge'], num=-1, shuffle=True)"
   ]
  },
  {
   "cell_type": "markdown",
   "metadata": {
    "collapsed": true
   },
   "source": [
    "## Partly Freezed Model"
   ]
  },
  {
   "cell_type": "code",
   "execution_count": 5,
   "metadata": {
    "collapsed": true
   },
   "outputs": [],
   "source": [
    "from keras import Input"
   ]
  },
  {
   "cell_type": "code",
   "execution_count": 15,
   "metadata": {},
   "outputs": [],
   "source": [
    "Input_tensor = Input(shape=(1, 5 * 16000,))\n",
    "\n",
    "Freezed_layer = Melspectrogram(n_dft=512,\n",
    "                               padding='same', sr=16000, n_mels=28,\n",
    "                               fmin=0.0, fmax=10000, power_melgram=1.0,\n",
    "                               return_decibel_melgram=False, trainable_fb=False,\n",
    "                               trainable_kernel=False)(Input_tensor)\n",
    "\n",
    "main_layers = models.Sequential([\n",
    "    layers.Conv2D(64, (3, 3), activation='relu'),\n",
    "    layers.MaxPooling2D((2, 2)),\n",
    "    layers.Conv2D(64, (3, 3), activation='relu'),\n",
    "    layers.MaxPooling2D((2, 2)),\n",
    "    layers.Conv2D(128, (3, 3), activation='relu'),\n",
    "    layers.MaxPooling2D((2, 2)),\n",
    "    layers.Dropout(0.3),\n",
    "    layers.Flatten(),\n",
    "    layers.Dense(1048, activation='relu'),\n",
    "    layers.Dense(3, activation='softmax')\n",
    "])\n",
    "\n",
    "model_1 = models.Model(Input_tensor, main_layers(Freezed_layer))"
   ]
  },
  {
   "cell_type": "code",
   "execution_count": 16,
   "metadata": {},
   "outputs": [],
   "source": [
    "model_1.compile(optimizer=RMSprop(),\n",
    "              metrics=['accuracy'],\n",
    "              loss='categorical_crossentropy')"
   ]
  },
  {
   "cell_type": "markdown",
   "metadata": {},
   "source": [
    "## Unfrozen Model"
   ]
  },
  {
   "cell_type": "code",
   "execution_count": 17,
   "metadata": {
    "collapsed": true
   },
   "outputs": [],
   "source": [
    "Unfreezed_layer = Melspectrogram(n_dft=512,\n",
    "                               padding='same', sr=16000, n_mels=28,\n",
    "                               fmin=0.0, fmax=10000, power_melgram=1.0,\n",
    "                               return_decibel_melgram=False, trainable_fb=False,\n",
    "                               trainable_kernel=True)(Input_tensor)\n",
    "\n",
    "model_2 = models.Model(Input_tensor, main_layers(Unfreezed_layer))"
   ]
  },
  {
   "cell_type": "code",
   "execution_count": 21,
   "metadata": {
    "collapsed": true
   },
   "outputs": [],
   "source": [
    "model_2.compile(optimizer=RMSprop(lr=0.0005),\n",
    "              metrics=['accuracy'],\n",
    "              loss='categorical_crossentropy')"
   ]
  },
  {
   "cell_type": "markdown",
   "metadata": {},
   "source": [
    "## Training"
   ]
  },
  {
   "cell_type": "code",
   "execution_count": 20,
   "metadata": {},
   "outputs": [
    {
     "name": "stdout",
     "output_type": "stream",
     "text": [
      "Train on 50000 samples, validate on 10000 samples\n",
      "Epoch 1/10\n",
      "50000/50000 [==============================] - 64s 1ms/step - loss: 0.9241 - acc: 0.5609 - val_loss: 0.6846 - val_acc: 0.7280\n",
      "Epoch 2/10\n",
      "50000/50000 [==============================] - 60s 1ms/step - loss: 0.6945 - acc: 0.7050 - val_loss: 0.7489 - val_acc: 0.6936\n",
      "Epoch 3/10\n",
      "50000/50000 [==============================] - 59s 1ms/step - loss: 0.5537 - acc: 0.7753 - val_loss: 0.4742 - val_acc: 0.8182\n",
      "Epoch 4/10\n",
      "50000/50000 [==============================] - 60s 1ms/step - loss: 0.4581 - acc: 0.8169 - val_loss: 0.3443 - val_acc: 0.8724\n",
      "Epoch 5/10\n",
      "50000/50000 [==============================] - 60s 1ms/step - loss: 0.3935 - acc: 0.8442 - val_loss: 0.3119 - val_acc: 0.8819\n",
      "Epoch 6/10\n",
      "50000/50000 [==============================] - 59s 1ms/step - loss: 0.3440 - acc: 0.8673 - val_loss: 0.7798 - val_acc: 0.6765\n",
      "Epoch 7/10\n",
      "50000/50000 [==============================] - 60s 1ms/step - loss: 0.3121 - acc: 0.8804 - val_loss: 0.2990 - val_acc: 0.8905\n",
      "Epoch 8/10\n",
      "50000/50000 [==============================] - 59s 1ms/step - loss: 0.2810 - acc: 0.8942 - val_loss: 0.2779 - val_acc: 0.9057\n",
      "Epoch 9/10\n",
      "50000/50000 [==============================] - 59s 1ms/step - loss: 0.2583 - acc: 0.9037 - val_loss: 0.3989 - val_acc: 0.8430\n",
      "Epoch 10/10\n",
      "50000/50000 [==============================] - 59s 1ms/step - loss: 0.2341 - acc: 0.9136 - val_loss: 0.4208 - val_acc: 0.8645\n"
     ]
    },
    {
     "data": {
      "text/plain": [
       "<keras.callbacks.History at 0x7f96211eb8d0>"
      ]
     },
     "execution_count": 20,
     "metadata": {},
     "output_type": "execute_result"
    }
   ],
   "source": [
    "model_1.fit(x=train_data,\n",
    "                        y=train_labels,\n",
    "                        batch_size=128, \n",
    "                        epochs=8,\n",
    "                        validation_data=(val_data, val_labels), \n",
    "                        shuffle=True)"
   ]
  },
  {
   "cell_type": "code",
   "execution_count": 22,
   "metadata": {},
   "outputs": [
    {
     "name": "stdout",
     "output_type": "stream",
     "text": [
      "Train on 50000 samples, validate on 10000 samples\n",
      "Epoch 1/3\n",
      "50000/50000 [==============================] - 68s 1ms/step - loss: 1.1881 - acc: 0.3379 - val_loss: 1.1000 - val_acc: 0.3333\n",
      "Epoch 2/3\n",
      "50000/50000 [==============================] - 67s 1ms/step - loss: 1.1005 - acc: 0.3324 - val_loss: 1.0989 - val_acc: 0.3334\n",
      "Epoch 3/3\n",
      "50000/50000 [==============================] - 67s 1ms/step - loss: 1.0988 - acc: 0.3339 - val_loss: 1.0986 - val_acc: 0.3334\n"
     ]
    },
    {
     "data": {
      "text/plain": [
       "<keras.callbacks.History at 0x7f961b7d0b70>"
      ]
     },
     "execution_count": 22,
     "metadata": {},
     "output_type": "execute_result"
    }
   ],
   "source": [
    "model_2.fit(x=train_data,\n",
    "                        y=train_labels,\n",
    "                        batch_size=128, \n",
    "                        epochs=3,\n",
    "                        validation_data=(val_data, val_labels), \n",
    "                        shuffle=True)"
   ]
  },
  {
   "cell_type": "code",
   "execution_count": null,
   "metadata": {
    "collapsed": true
   },
   "outputs": [],
   "source": []
  }
 ],
 "metadata": {
  "kernelspec": {
   "display_name": "deepLID",
   "language": "python",
   "name": "deeplid"
  },
  "language_info": {
   "codemirror_mode": {
    "name": "ipython",
    "version": 3
   },
   "file_extension": ".py",
   "mimetype": "text/x-python",
   "name": "python",
   "nbconvert_exporter": "python",
   "pygments_lexer": "ipython3",
   "version": "3.6.6"
  }
 },
 "nbformat": 4,
 "nbformat_minor": 2
}
