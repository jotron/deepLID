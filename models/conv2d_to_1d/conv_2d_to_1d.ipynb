{
 "cells": [
  {
   "cell_type": "markdown",
   "metadata": {},
   "source": [
    "# \"Duo Net\""
   ]
  },
  {
   "cell_type": "code",
   "execution_count": 2,
   "metadata": {},
   "outputs": [
    {
     "name": "stderr",
     "output_type": "stream",
     "text": [
      "Using TensorFlow backend.\n"
     ]
    }
   ],
   "source": [
    "import keras\n",
    "from keras import models, layers\n",
    "import numpy as np\n",
    "import matplotlib.pyplot as plt\n",
    "from kapre.time_frequency import Melspectrogram\n",
    "from kapre.utils import Normalization2D\n",
    "import sys\n",
    "sys.path.append('../')\n",
    "from utils import DataFeed\n",
    "from keras import regularizers"
   ]
  },
  {
   "cell_type": "markdown",
   "metadata": {},
   "source": [
    "### Load Data"
   ]
  },
  {
   "cell_type": "code",
   "execution_count": 2,
   "metadata": {
    "collapsed": true
   },
   "outputs": [],
   "source": [
    "data_path='../preprocessing/preprocessed_data'"
   ]
  },
  {
   "cell_type": "code",
   "execution_count": 3,
   "metadata": {
    "collapsed": true
   },
   "outputs": [],
   "source": [
    "train_data, train_labels = DataFeed.Dataset.create(data_path, ['train/voxforge', 'train/youtube'], num=50000, use_premade=True)\n",
    "val_data, val_labels = DataFeed.Dataset.create(data_path, ['val/youtube', 'val/voxforge'], num=-1, shuffle=True)"
   ]
  },
  {
   "cell_type": "code",
   "execution_count": 2,
   "metadata": {
    "collapsed": true
   },
   "outputs": [],
   "source": [
    "callback_stopearly = keras.callbacks.EarlyStopping(monitor='val_acc',\n",
    "                                                   patience=5)"
   ]
  },
  {
   "cell_type": "markdown",
   "metadata": {},
   "source": [
    "### Define Model"
   ]
  },
  {
   "cell_type": "code",
   "execution_count": 3,
   "metadata": {},
   "outputs": [],
   "source": [
    "model = models.Sequential()\n",
    "model.add(Melspectrogram(n_dft=512, input_shape=(1, 5 * 16000,),\n",
    "                         padding='same', sr=16000, n_mels=28,\n",
    "                         fmin=0.0, fmax=10000, power_melgram=1.0,\n",
    "                         return_decibel_melgram=False, trainable_fb=False,\n",
    "                         trainable_kernel=False))\n",
    "model.add(layers.SeparableConv2D(128, (5, 1), activation='relu'))\n",
    "model.add(layers.MaxPooling2D((3, 1)))\n",
    "model.add(layers.SeparableConv2D(128, (5, 1), activation='relu'))\n",
    "model.add(layers.MaxPooling2D((4, 1)))\n",
    "model.add(layers.Reshape((-1, 64)))\n",
    "model.add(layers.SeparableConv1D(128, 14, activation='relu'))\n",
    "model.add(layers.MaxPooling1D(4))\n",
    "model.add(layers.SeparableConv1D(128, 14, activation='relu'))\n",
    "model.add(layers.MaxPooling1D(4))\n",
    "model.add(layers.SeparableConv1D(128, 14, activation='relu'))\n",
    "model.add(layers.MaxPooling1D(2))\n",
    "model.add(layers.Flatten())\n",
    "model.add(layers.Dense(3, activation='softmax'))"
   ]
  },
  {
   "cell_type": "code",
   "execution_count": 72,
   "metadata": {},
   "outputs": [
    {
     "name": "stdout",
     "output_type": "stream",
     "text": [
      "_________________________________________________________________\n",
      "Layer (type)                 Output Shape              Param #   \n",
      "=================================================================\n",
      "melspectrogram_38 (Melspectr (None, 28, 313, 1)        270364    \n",
      "_________________________________________________________________\n",
      "conv2d_75 (Conv2D)           (None, 24, 313, 64)       384       \n",
      "_________________________________________________________________\n",
      "max_pooling2d_75 (MaxPooling (None, 8, 313, 64)        0         \n",
      "_________________________________________________________________\n",
      "conv2d_76 (Conv2D)           (None, 4, 313, 64)        20544     \n",
      "_________________________________________________________________\n",
      "max_pooling2d_76 (MaxPooling (None, 1, 313, 64)        0         \n",
      "_________________________________________________________________\n",
      "reshape_37 (Reshape)         (None, 313, 64)           0         \n",
      "_________________________________________________________________\n",
      "conv1d_92 (Conv1D)           (None, 300, 128)          114816    \n",
      "_________________________________________________________________\n",
      "max_pooling1d_91 (MaxPooling (None, 75, 128)           0         \n",
      "_________________________________________________________________\n",
      "conv1d_93 (Conv1D)           (None, 62, 128)           229504    \n",
      "_________________________________________________________________\n",
      "max_pooling1d_92 (MaxPooling (None, 15, 128)           0         \n",
      "_________________________________________________________________\n",
      "conv1d_94 (Conv1D)           (None, 2, 128)            229504    \n",
      "_________________________________________________________________\n",
      "max_pooling1d_93 (MaxPooling (None, 1, 128)            0         \n",
      "_________________________________________________________________\n",
      "flatten_36 (Flatten)         (None, 128)               0         \n",
      "_________________________________________________________________\n",
      "dense_41 (Dense)             (None, 3)                 387       \n",
      "=================================================================\n",
      "Total params: 865,503\n",
      "Trainable params: 595,139\n",
      "Non-trainable params: 270,364\n",
      "_________________________________________________________________\n"
     ]
    }
   ],
   "source": [
    "model.summary()"
   ]
  },
  {
   "cell_type": "code",
   "execution_count": 81,
   "metadata": {
    "collapsed": true
   },
   "outputs": [],
   "source": [
    "model.compile(optimizer='Rmsprop',\n",
    "              metrics=['accuracy'],\n",
    "              loss='categorical_crossentropy')"
   ]
  },
  {
   "cell_type": "code",
   "execution_count": 13,
   "metadata": {
    "collapsed": true
   },
   "outputs": [],
   "source": [
    "a = np.array([[1, 2], [3, 4]])"
   ]
  },
  {
   "cell_type": "code",
   "execution_count": 15,
   "metadata": {},
   "outputs": [
    {
     "data": {
      "text/plain": [
       "array([[1, 2],\n",
       "       [3, 4]])"
      ]
     },
     "execution_count": 15,
     "metadata": {},
     "output_type": "execute_result"
    }
   ],
   "source": [
    "a"
   ]
  },
  {
   "cell_type": "code",
   "execution_count": 22,
   "metadata": {},
   "outputs": [
    {
     "data": {
      "text/plain": [
       "(2, 2, 1)"
      ]
     },
     "execution_count": 22,
     "metadata": {},
     "output_type": "execute_result"
    }
   ],
   "source": [
    "a[:, :, None].shape"
   ]
  },
  {
   "cell_type": "code",
   "execution_count": null,
   "metadata": {
    "collapsed": true
   },
   "outputs": [],
   "source": []
  }
 ],
 "metadata": {
  "kernelspec": {
   "display_name": "deepLID",
   "language": "python",
   "name": "deeplid"
  },
  "language_info": {
   "codemirror_mode": {
    "name": "ipython",
    "version": 3
   },
   "file_extension": ".py",
   "mimetype": "text/x-python",
   "name": "python",
   "nbconvert_exporter": "python",
   "pygments_lexer": "ipython3",
   "version": "3.6.6"
  }
 },
 "nbformat": 4,
 "nbformat_minor": 2
}
