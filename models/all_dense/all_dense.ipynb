{
 "cells": [
  {
   "cell_type": "markdown",
   "metadata": {},
   "source": [
    "# \"Dense Baseline\""
   ]
  },
  {
   "cell_type": "code",
   "execution_count": 1,
   "metadata": {},
   "outputs": [
    {
     "name": "stderr",
     "output_type": "stream",
     "text": [
      "Using TensorFlow backend.\n"
     ]
    }
   ],
   "source": [
    "import keras\n",
    "from keras import models, layers\n",
    "import numpy as np\n",
    "import matplotlib.pyplot as plt\n",
    "from kapre.time_frequency import Melspectrogram\n",
    "from kapre.utils import Normalization2D\n",
    "import sys\n",
    "sys.path.append('../')\n",
    "from utils import DataFeed\n",
    "from keras import regularizers"
   ]
  },
  {
   "cell_type": "markdown",
   "metadata": {},
   "source": [
    "### Load Data"
   ]
  },
  {
   "cell_type": "code",
   "execution_count": 2,
   "metadata": {},
   "outputs": [],
   "source": [
    "data_path='../preprocessing/preprocessed_data'"
   ]
  },
  {
   "cell_type": "code",
   "execution_count": 3,
   "metadata": {},
   "outputs": [],
   "source": [
    "train_data, train_labels = DataFeed.Dataset.create(data_path, ['train/voxforge', 'train/youtube'], num=50000, use_premade=True)\n",
    "val_data, val_labels = DataFeed.Dataset.create(data_path, ['val/youtube', 'val/voxforge'], num=-1, shuffle=True)"
   ]
  },
  {
   "cell_type": "code",
   "execution_count": 4,
   "metadata": {},
   "outputs": [],
   "source": [
    "callback_stopearly = keras.callbacks.EarlyStopping(monitor='val_acc', patience=5)"
   ]
  },
  {
   "cell_type": "markdown",
   "metadata": {},
   "source": [
    "### Define Model"
   ]
  },
  {
   "cell_type": "code",
   "execution_count": 5,
   "metadata": {},
   "outputs": [],
   "source": [
    "model = models.Sequential()\n",
    "model.add(layers.Flatten())\n",
    "model.add(layers.Dropout(0.5))\n",
    "model.add(layers.Dense(256, activation='relu', kernel_regularizer=regularizers.l2(0.0001)))\n",
    "model.add(layers.Dropout(0.5))\n",
    "model.add(layers.Dense(256, activation='relu', kernel_regularizer=regularizers.l2(0.0001)))\n",
    "model.add(layers.Dropout(0.5))\n",
    "model.add(layers.Dense(256, activation='relu', kernel_regularizer=regularizers.l2(0.0001)))\n",
    "model.add(layers.Dropout(0.5))\n",
    "model.add(layers.Dense(256, activation='relu', kernel_regularizer=regularizers.l2(0.0001)))\n",
    "model.add(layers.Dropout(0.5))\n",
    "model.add(layers.Dense(256, activation='relu', kernel_regularizer=regularizers.l1(0.0005)))\n",
    "model.add(layers.Dropout(0.5))\n",
    "model.add(layers.Dense(3, activation='softmax'))"
   ]
  },
  {
   "cell_type": "code",
   "execution_count": 7,
   "metadata": {},
   "outputs": [],
   "source": [
    "model.compile(optimizer='Rmsprop',\n",
    "              metrics=['accuracy'],\n",
    "              loss='categorical_crossentropy')"
   ]
  },
  {
   "cell_type": "code",
   "execution_count": 8,
   "metadata": {},
   "outputs": [
    {
     "name": "stdout",
     "output_type": "stream",
     "text": [
      "Train on 50000 samples, validate on 10000 samples\n",
      "Epoch 1/13\n",
      "50000/50000 [==============================] - 34s 677us/step - loss: 2.2545 - acc: 0.3551 - val_loss: 1.7370 - val_acc: 0.3787\n",
      "Epoch 2/13\n",
      "50000/50000 [==============================] - 31s 623us/step - loss: 1.4757 - acc: 0.3693 - val_loss: 1.2853 - val_acc: 0.3787\n",
      "Epoch 3/13\n",
      "50000/50000 [==============================] - 31s 620us/step - loss: 1.2547 - acc: 0.3727 - val_loss: 1.2086 - val_acc: 0.3794\n",
      "Epoch 4/13\n",
      "50000/50000 [==============================] - 31s 622us/step - loss: 1.2488 - acc: 0.3806 - val_loss: 1.2372 - val_acc: 0.4102\n",
      "Epoch 5/13\n",
      "50000/50000 [==============================] - 31s 625us/step - loss: 1.3129 - acc: 0.4213 - val_loss: 1.3240 - val_acc: 0.4319\n",
      "Epoch 6/13\n",
      "50000/50000 [==============================] - 31s 626us/step - loss: 1.3808 - acc: 0.4517 - val_loss: 1.3968 - val_acc: 0.4328\n",
      "Epoch 7/13\n",
      "50000/50000 [==============================] - 31s 626us/step - loss: 1.4329 - acc: 0.4752 - val_loss: 1.4899 - val_acc: 0.4331\n",
      "Epoch 8/13\n",
      "50000/50000 [==============================] - 31s 626us/step - loss: 1.4853 - acc: 0.4967 - val_loss: 1.5606 - val_acc: 0.4378\n",
      "Epoch 9/13\n",
      "50000/50000 [==============================] - 31s 623us/step - loss: 1.5351 - acc: 0.5181 - val_loss: 1.6324 - val_acc: 0.4299\n",
      "Epoch 10/13\n",
      "50000/50000 [==============================] - 31s 621us/step - loss: 1.5846 - acc: 0.5358 - val_loss: 1.7013 - val_acc: 0.4188\n",
      "Epoch 11/13\n",
      "50000/50000 [==============================] - 31s 626us/step - loss: 1.6223 - acc: 0.5597 - val_loss: 1.7860 - val_acc: 0.4308\n",
      "Epoch 12/13\n",
      "50000/50000 [==============================] - 32s 638us/step - loss: 1.6681 - acc: 0.5780 - val_loss: 1.8636 - val_acc: 0.4321\n",
      "Epoch 13/13\n",
      "50000/50000 [==============================] - 32s 645us/step - loss: 1.7005 - acc: 0.5998 - val_loss: 1.9012 - val_acc: 0.4418\n"
     ]
    }
   ],
   "source": [
    "history = model.fit(x=train_data,\n",
    "                    y=train_labels,\n",
    "                    batch_size=128, \n",
    "                    epochs=13,\n",
    "                    validation_data=(val_data, val_labels), \n",
    "                    shuffle=True)"
   ]
  }
 ],
 "metadata": {
  "kernelspec": {
   "display_name": "Python 3",
   "language": "python",
   "name": "python3"
  },
  "language_info": {
   "codemirror_mode": {
    "name": "ipython",
    "version": 3
   },
   "file_extension": ".py",
   "mimetype": "text/x-python",
   "name": "python",
   "nbconvert_exporter": "python",
   "pygments_lexer": "ipython3",
   "version": "3.6.7"
  }
 },
 "nbformat": 4,
 "nbformat_minor": 2
}
