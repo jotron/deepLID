{
 "cells": [
  {
   "cell_type": "markdown",
   "metadata": {},
   "source": [
    "# \"Duo Net\""
   ]
  },
  {
   "cell_type": "code",
   "execution_count": 1,
   "metadata": {},
   "outputs": [
    {
     "name": "stderr",
     "output_type": "stream",
     "text": [
      "Using TensorFlow backend.\n"
     ]
    }
   ],
   "source": [
    "import keras\n",
    "from keras import models, layers\n",
    "import numpy as np\n",
    "import matplotlib.pyplot as plt\n",
    "from kapre.time_frequency import Melspectrogram\n",
    "from kapre.utils import Normalization2D\n",
    "import sys\n",
    "sys.path.append('../')\n",
    "from utils import DataFeed\n",
    "from keras import regularizers"
   ]
  },
  {
   "cell_type": "markdown",
   "metadata": {},
   "source": [
    "### Load Data"
   ]
  },
  {
   "cell_type": "code",
   "execution_count": 2,
   "metadata": {
    "collapsed": true
   },
   "outputs": [],
   "source": [
    "data_path='../preprocessing/preprocessed_data'"
   ]
  },
  {
   "cell_type": "code",
   "execution_count": 3,
   "metadata": {
    "collapsed": true
   },
   "outputs": [],
   "source": [
    "train_data, train_labels = DataFeed.Dataset.create(data_path, ['train/voxforge', 'train/youtube'], num=10000, use_premade=False)\n",
    "val_data, val_labels = DataFeed.Dataset.create(data_path, ['val/youtube', 'val/voxforge'], num=-1, shuffle=True)"
   ]
  },
  {
   "cell_type": "code",
   "execution_count": 4,
   "metadata": {
    "collapsed": true
   },
   "outputs": [],
   "source": [
    "callback_stopearly = keras.callbacks.EarlyStopping(monitor='val_acc',\n",
    "                                                   patience=5)"
   ]
  },
  {
   "cell_type": "markdown",
   "metadata": {},
   "source": [
    "### Define Model"
   ]
  },
  {
   "cell_type": "code",
   "execution_count": 6,
   "metadata": {
    "collapsed": true
   },
   "outputs": [],
   "source": [
    "model = models.Sequential()\n",
    "model.add(Melspectrogram(n_dft=1024, input_shape=(1, 5 * 16000,),\n",
    "                         padding='same', sr=16000, n_mels=28,\n",
    "                         fmin=0.0, fmax=10000, power_melgram=1.0,\n",
    "                         return_decibel_melgram=True, trainable_fb=False,\n",
    "                         trainable_kernel=False))\n",
    "model.add(layers.Flatten())\n",
    "model.add(layers.Dense(1024, activation='relu'))\n",
    "model.add(layers.Dense(1024, activation='relu'))\n",
    "model.add(layers.Dense(1024, activation='relu'))\n",
    "model.add(layers.Dense(512, activation='relu'))\n",
    "model.add(layers.Dense(512, activation='relu'))\n",
    "model.add(layers.Dense(512, activation='relu'))\n",
    "model.add(layers.Dense(3, activation='softmax'))"
   ]
  },
  {
   "cell_type": "code",
   "execution_count": 7,
   "metadata": {},
   "outputs": [
    {
     "name": "stdout",
     "output_type": "stream",
     "text": [
      "_________________________________________________________________\n",
      "Layer (type)                 Output Shape              Param #   \n",
      "=================================================================\n",
      "melspectrogram_2 (Melspectro (None, 28, 157, 1)        1064988   \n",
      "_________________________________________________________________\n",
      "flatten_2 (Flatten)          (None, 4396)              0         \n",
      "_________________________________________________________________\n",
      "dense_8 (Dense)              (None, 512)               2251264   \n",
      "_________________________________________________________________\n",
      "dense_9 (Dense)              (None, 512)               262656    \n",
      "_________________________________________________________________\n",
      "dense_10 (Dense)             (None, 512)               262656    \n",
      "_________________________________________________________________\n",
      "dense_11 (Dense)             (None, 512)               262656    \n",
      "_________________________________________________________________\n",
      "dense_12 (Dense)             (None, 512)               262656    \n",
      "_________________________________________________________________\n",
      "dense_13 (Dense)             (None, 512)               262656    \n",
      "_________________________________________________________________\n",
      "dense_14 (Dense)             (None, 3)                 1539      \n",
      "=================================================================\n",
      "Total params: 4,631,071\n",
      "Trainable params: 3,566,083\n",
      "Non-trainable params: 1,064,988\n",
      "_________________________________________________________________\n"
     ]
    }
   ],
   "source": [
    "model.summary()"
   ]
  },
  {
   "cell_type": "code",
   "execution_count": 8,
   "metadata": {
    "collapsed": true
   },
   "outputs": [],
   "source": [
    "model.compile(optimizer='Rmsprop',\n",
    "              metrics=['accuracy'],\n",
    "              loss='categorical_crossentropy')"
   ]
  },
  {
   "cell_type": "code",
   "execution_count": null,
   "metadata": {},
   "outputs": [
    {
     "name": "stdout",
     "output_type": "stream",
     "text": [
      "Train on 10000 samples, validate on 10000 samples\n",
      "Epoch 1/13\n",
      "10000/10000 [==============================] - 20s 2ms/step - loss: 10.7305 - acc: 0.3281 - val_loss: 10.7427 - val_acc: 0.3334\n",
      "Epoch 2/13\n",
      "10000/10000 [==============================] - 17s 2ms/step - loss: 10.8185 - acc: 0.3288 - val_loss: 10.7427 - val_acc: 0.3334\n",
      "Epoch 3/13\n",
      "10000/10000 [==============================] - 17s 2ms/step - loss: 10.8185 - acc: 0.3288 - val_loss: 10.7427 - val_acc: 0.3334\n",
      "Epoch 4/13\n",
      "10000/10000 [==============================] - 17s 2ms/step - loss: 10.8185 - acc: 0.3288 - val_loss: 10.7427 - val_acc: 0.3334\n",
      "Epoch 5/13\n",
      "10000/10000 [==============================] - 17s 2ms/step - loss: 10.8185 - acc: 0.3288 - val_loss: 10.7427 - val_acc: 0.3334\n",
      "Epoch 6/13\n",
      "10000/10000 [==============================] - 17s 2ms/step - loss: 10.8185 - acc: 0.3288 - val_loss: 10.7427 - val_acc: 0.3334\n",
      "Epoch 7/13\n",
      " 9984/10000 [============================>.] - ETA: 0s - loss: 10.8229 - acc: 0.3285"
     ]
    }
   ],
   "source": [
    "history = model.fit(x=train_data,\n",
    "                        y=train_labels,\n",
    "                        batch_size=128, \n",
    "                        epochs=13,\n",
    "                        validation_data=(val_data, val_labels), \n",
    "                        shuffle=True)"
   ]
  },
  {
   "cell_type": "code",
   "execution_count": null,
   "metadata": {
    "collapsed": true
   },
   "outputs": [],
   "source": []
  }
 ],
 "metadata": {
  "kernelspec": {
   "display_name": "deepLID",
   "language": "python",
   "name": "deeplid"
  },
  "language_info": {
   "codemirror_mode": {
    "name": "ipython",
    "version": 3
   },
   "file_extension": ".py",
   "mimetype": "text/x-python",
   "name": "python",
   "nbconvert_exporter": "python",
   "pygments_lexer": "ipython3",
   "version": "3.6.6"
  }
 },
 "nbformat": 4,
 "nbformat_minor": 2
}
