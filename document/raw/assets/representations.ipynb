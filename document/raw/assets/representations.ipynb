{
 "cells": [
  {
   "cell_type": "markdown",
   "metadata": {},
   "source": [
    "# Abbildung für \"Repräsentationen\" erstellen"
   ]
  },
  {
   "cell_type": "code",
   "execution_count": 16,
   "metadata": {},
   "outputs": [],
   "source": [
    "import matplotlib.pyplot as plt\n",
    "import numpy as np\n",
    "%matplotlib inline\n",
    "plt.rcParams.update({'font.size': 24})"
   ]
  },
  {
   "cell_type": "markdown",
   "metadata": {},
   "source": [
    " ## Good Oriented Representation"
   ]
  },
  {
   "cell_type": "code",
   "execution_count": 2,
   "metadata": {},
   "outputs": [],
   "source": [
    "n = 40\n",
    "limit = 0.4\n",
    "size=10\n",
    "x = np.random.rand((n))\n",
    "y = np.random.rand((n))"
   ]
  },
  {
   "cell_type": "code",
   "execution_count": 3,
   "metadata": {},
   "outputs": [],
   "source": [
    "i1 = np.where(x>limit)\n",
    "i2 = np.where(x<=limit)"
   ]
  },
  {
   "cell_type": "code",
   "execution_count": 17,
   "metadata": {},
   "outputs": [
    {
     "data": {
      "image/png": "[encoded data removed]",
      "text/plain": [
       "<Figure size 360x360 with 1 Axes>"
      ]
     },
     "metadata": {},
     "output_type": "display_data"
    }
   ],
   "source": [
    "plt.figure(figsize=(5, 5))\n",
    "plt.plot(x[i1], y[i1], 'ob', markersize=size)\n",
    "plt.plot(x[i2], y[i2], 'sr', markersize=size)\n",
    "plt.plot([limit,limit],[0,1],'0.0', lw=1)\n",
    "plt.plot([0,1],[0.2,0.2],'0.0', lw=1)\n",
    "plt.xlim(0, 1)\n",
    "plt.ylim(0, 1)\n",
    "plt.xticks([], [])\n",
    "plt.yticks([], [])\n",
    "plt.ylabel('y')\n",
    "plt.xlabel('x')\n",
    "\n",
    "for spine in plt.gca().spines.values():\n",
    "    spine.set_visible(False)"
   ]
  },
  {
   "cell_type": "markdown",
   "metadata": {},
   "source": [
    "## Bad Representation"
   ]
  },
  {
   "cell_type": "code",
   "execution_count": 11,
   "metadata": {},
   "outputs": [],
   "source": [
    "theta = np.radians(-30)\n",
    "c, s = np.cos(theta), np.sin(theta)\n",
    "R = np.array(((c,-s), (s, c)))\n",
    "M = np.array([0.5, 0.5])"
   ]
  },
  {
   "cell_type": "code",
   "execution_count": 12,
   "metadata": {},
   "outputs": [],
   "source": [
    "xy = np.stack([x, y], axis=1)\n",
    "xy = np.dot(xy-M, R)+M"
   ]
  },
  {
   "cell_type": "code",
   "execution_count": 18,
   "metadata": {},
   "outputs": [
    {
     "data": {
      "image/png": "[encoded data removed]",
      "text/plain": [
       "<Figure size 360x360 with 1 Axes>"
      ]
     },
     "metadata": {},
     "output_type": "display_data"
    }
   ],
   "source": [
    "plt.figure(figsize=(5, 5))\n",
    "plt.plot(xy[i1, 0], xy[i1, 1], 'ob', markersize=size)\n",
    "plt.plot(xy[i2, 0], xy[i2, 1], 'sr', markersize=size)\n",
    "plt.plot([0,1],[0.1,0.1],'0.0', lw=1)\n",
    "plt.plot([0.1, 0.1],[0,1],'0.0', lw=1)\n",
    "plt.xlim(0, 1)\n",
    "plt.ylim(0, 1)\n",
    "plt.xticks([], [])\n",
    "plt.yticks([], [])\n",
    "plt.ylabel('y')\n",
    "plt.xlabel('x')\n",
    "\n",
    "for spine in plt.gca().spines.values():\n",
    "    spine.set_visible(False)"
   ]
  },
  {
   "cell_type": "markdown",
   "metadata": {},
   "source": [
    "## Good Representation"
   ]
  },
  {
   "cell_type": "code",
   "execution_count": 14,
   "metadata": {},
   "outputs": [],
   "source": [
    "ax = np.array([[limit, 0], [limit, 1], [0, 0.2], [1, 0.2]])\n",
    "ax = np.dot(ax-M, R)+M"
   ]
  },
  {
   "cell_type": "code",
   "execution_count": 19,
   "metadata": {},
   "outputs": [
    {
     "data": {
      "image/png": "[encoded data removed]",
      "text/plain": [
       "<Figure size 360x360 with 1 Axes>"
      ]
     },
     "metadata": {},
     "output_type": "display_data"
    }
   ],
   "source": [
    "plt.figure(figsize=(5, 5))\n",
    "plt.plot(xy[i1, 0], xy[i1, 1], 'ob', markersize=size)\n",
    "plt.plot(xy[i2, 0], xy[i2, 1], 'sr', markersize=size)\n",
    "plt.plot(ax[:2, 0],ax[:2, 1],'0.0', lw=1)\n",
    "plt.plot(ax[2:, 0],ax[2:, 1],'0.0', lw=1)\n",
    "#plt.plot([0,1],[0.1,0.1],'0.0', lw=1)\n",
    "#plt.plot([0.1, 0.1],[0,1],'0.0', lw=1)\n",
    "plt.xlim(0, 1)\n",
    "plt.ylim(0, 1)\n",
    "plt.xticks([], [])\n",
    "plt.yticks([], [])\n",
    "#plt.ylabel('y')\n",
    "#plt.xlabel('x')\n",
    "\n",
    "for spine in plt.gca().spines.values():\n",
    "    spine.set_visible(False)"
   ]
  },
  {
   "cell_type": "code",
   "execution_count": null,
   "metadata": {},
   "outputs": [],
   "source": []
  }
 ],
 "metadata": {
  "kernelspec": {
   "display_name": "scientific",
   "language": "python",
   "name": "scientific"
  },
  "language_info": {
   "codemirror_mode": {
    "name": "ipython",
    "version": 3
   },
   "file_extension": ".py",
   "mimetype": "text/x-python",
   "name": "python",
   "nbconvert_exporter": "python",
   "pygments_lexer": "ipython3",
   "version": "3.6.4"
  }
 },
 "nbformat": 4,
 "nbformat_minor": 2
}
