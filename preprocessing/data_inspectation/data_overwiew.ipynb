{
 "cells": [
  {
   "cell_type": "markdown",
   "metadata": {},
   "source": [
    "# Rough Data view"
   ]
  },
  {
   "cell_type": "markdown",
   "metadata": {},
   "source": [
    "## Distribution of Data over language"
   ]
  },
  {
   "cell_type": "code",
   "execution_count": 7,
   "metadata": {},
   "outputs": [],
   "source": [
    "import os\n",
    "import numpy as np"
   ]
  },
  {
   "cell_type": "code",
   "execution_count": 3,
   "metadata": {},
   "outputs": [
    {
     "name": "stdout",
     "output_type": "stream",
     "text": [
      "French: 22430\n",
      "German: 24100\n",
      "English: 86616\n"
     ]
    }
   ],
   "source": [
    "#https://stackoverflow.com/questions/2632205/how-to-count-the-number-of-files-in-a-directory-using-python\n",
    "def num_files(dir_name):\n",
    "    return len(os.listdir(dir_name))\n",
    "print(f\"French: {num_files('raw/french')}\")\n",
    "print(f\"German: {num_files('raw/german')}\")\n",
    "print(f\"English: {num_files('raw/english')}\")"
   ]
  },
  {
   "cell_type": "markdown",
   "metadata": {},
   "source": [
    "### Amount of Data in hours"
   ]
  },
  {
   "cell_type": "code",
   "execution_count": 10,
   "metadata": {},
   "outputs": [
    {
     "name": "stdout",
     "output_type": "stream",
     "text": [
      "French: 37.19260685763889h\n",
      "German: 31.727374479166667h\n",
      "English: 119.54895984375001h\n"
     ]
    }
   ],
   "source": [
    "fr_files = get_paths('french')\n",
    "fr_durations = np.asarray([get_duration(file, 16, 16000) for file in fr_files])\n",
    "print(f\"French: {np.sum(fr_durations)/3600}h\")\n",
    "\n",
    "fr_files = get_paths('german')\n",
    "fr_durations = np.asarray([get_duration(file, 16, 16000) for file in fr_files])\n",
    "print(f\"German: {np.sum(fr_durations)/3600}h\")\n",
    "\n",
    "fr_files = get_paths('english')\n",
    "fr_durations = np.asarray([get_duration(file, 16, 16000) for file in fr_files])\n",
    "print(f\"English: {np.sum(fr_durations)/3600}h\")"
   ]
  },
  {
   "cell_type": "markdown",
   "metadata": {},
   "source": [
    "## Distribution of Data over sample duration"
   ]
  },
  {
   "cell_type": "code",
   "execution_count": 29,
   "metadata": {},
   "outputs": [],
   "source": [
    "import matplotlib.pyplot as plt"
   ]
  },
  {
   "cell_type": "code",
   "execution_count": 9,
   "metadata": {},
   "outputs": [],
   "source": [
    "# files is list with all audio files\n",
    "def get_paths(lang):\n",
    "    lang = 'raw/' + lang\n",
    "    files = os.listdir(lang)\n",
    "    for i in range(len(files)):\n",
    "        files[i] = os.path.join(lang, files[i])\n",
    "    return files\n",
    "\n",
    "files = get_paths('french')\n",
    "files.extend(get_paths('english'))\n",
    "files.extend(get_paths('german'))"
   ]
  },
  {
   "cell_type": "code",
   "execution_count": 5,
   "metadata": {},
   "outputs": [],
   "source": [
    "# https://github.com/librosa/librosa/issues/345\n",
    "def get_duration(path, bitdepth, samplerate):\n",
    "    return os.path.getsize(path)/bitdepth*8/samplerate"
   ]
  },
  {
   "cell_type": "code",
   "execution_count": 62,
   "metadata": {},
   "outputs": [],
   "source": [
    "# array with length of every file\n",
    "durations = np.asarray([get_duration(file, 16, 16000) for file in files])"
   ]
  },
  {
   "cell_type": "code",
   "execution_count": 48,
   "metadata": {},
   "outputs": [
    {
     "data": {
      "text/plain": [
       "Text(0.5,1,'Histogram of Duration')"
      ]
     },
     "execution_count": 48,
     "metadata": {},
     "output_type": "execute_result"
    },
    {
     "data": {
      "image/png": "[encoded data removed]",
      "text/plain": [
       "<Figure size 864x360 with 1 Axes>"
      ]
     },
     "metadata": {},
     "output_type": "display_data"
    }
   ],
   "source": [
    "#https://matplotlib.org/gallery/statistics/hist.html\n",
    "plt.figure(figsize=(12, 5))\n",
    "plt.hist(durations, 100, (0,12))\n",
    "plt.xlabel(\"Duration [s]\")\n",
    "plt.ylabel(\"Amount\")\n",
    "plt.title(\"Histogram of Duration\")"
   ]
  },
  {
   "cell_type": "markdown",
   "metadata": {},
   "source": [
    "### Audio Samples < 2s?"
   ]
  },
  {
   "cell_type": "code",
   "execution_count": 44,
   "metadata": {},
   "outputs": [],
   "source": [
    "import IPython.display as ipd"
   ]
  },
  {
   "cell_type": "code",
   "execution_count": 56,
   "metadata": {},
   "outputs": [
    {
     "data": {
      "text/html": [
       "\n",
       "                <audio controls=\"controls\" >\n",
       "                    <source src=\"data:audio/x-wav;base64,UklGRgQvAABXQVZFZm10IBAAAAABAAEAgD4AAAB9AAACABAAZGF0YeAuAABNAbkATgBR/5r/tP89/nn/1v5K/n3+zP7A/rX/EAB4/Tb9aP0i/4wAXgCc/7f9sgBLAVL/yP67/QD+C/2a/Mf9Jf1a/Y79v/8xAFD/AgBz/5r/Hv+X/a79/v5S//r/pv9I/5MBoAHMAP0B5P80AV0BQwANAan/2AAzAGD+C/8//Y78V/zI+639Pv+Y/s3+QADx/t/9zv6r/0n+Kv18/AH99P2+/R/+NP/d//L+4fxy/RT9c/sR/ZT91/wJ//P/9P9AAJABSgJ4/2P+Tf+qAJz+Pf38/ZP+R/7H/qIACAH4AbgAlwITBIEB4AEHAVwAMgAEAGoBcgKm/2QAQAFG/1sB8gLCA/cBbwFBAqUD5wFgAAsCVgJuA+YD7AIFAlQCVgKaAcf/f/65/mX/hwFhAfP/HADQ/uP+pP3B/u7/FwBa/0gAmQGSAEUBdAEcAsP/gf5p/5UAj/9N/yL+yv6J/UL9tv2Y/Ur/aAD+ASQBbAJfAvQACgADAoEAq/7w/hgBwwCO/6kApf98ANYARP/m/pX+PP7I/i4AmgBY/3QAUQAcAaABiwBc/5YA4QCHAD0BggEbAnz/nv9wAEj/dP//AAMBf////ysAygAS/8H+Zf/O/vf+DQBCAD7+WwDqAPD90f1hAM4AIwHQAZP/6f9iACj/pQCFAH8AMQA+ARgB3f/pARkC8gA/ARIAbv75/l8A2v+P/mn+B/6q/Vb/fAFPAZABQP+eABkBggB2AbACeQMnAWP+HP93AJgBCAJZAXIBuQDlAUMBzgGVABYBsgC6/0X/rf5K/ZT9m/80/ywAWACBAIr/fP8FAQUBzf9oAA8A0v5I/Tb/mP8U/2wAmv7l/f79Rf29/8YBiAGfAOP/lwD+ALoCVAFjAN0A0/9N/3r+Ff/Q/3P+x/2G/nP/b//9/vz9gf0W/uL/9/8+/nj/3v9PAO4Azv8u/8n/ff5i/sD/MAB4AOIAUAHWAHYBMQFMAM3/MAFJAloBLQHBAWUAhP4yADoA+P+lAIYAZP+O/rL///9KASYBBwN8Ar0BbQP8AdsCgAEuAeMCnAHfAAABDgCv/6X/o/+3AMIAjAEXASH/If6G/uP9TP0j/4L+/v4O/yn+Sv+y/bD9ef5i/oz+gv3Q/cj77Puh/F79eP0j/dX9jf7d/qj+ewFTADAAOwCK/mn/NgEXAh8AVQFeAl4A/f7T/nT/4v6pALkA9//g/2b/Uf3z/pb/D/5U/Sz8Yf1o/nAAFv+r/j/+Sf4S/rD/J/9J/vD9Kf+pAYkAJwGEAB0DsQTDAjYCLwHVAj4DjgBeAXD/6/9rAOT+8//2AWMBiwFCAgoB0/+h/W0BUAF7AccBVQCmAb0B0AFEAJQAXQBIANf/qACBAUEC+AKCANEA0//s/tL+rP0T//L9W/1C/Q787P0L/nb/Mf8s/nv9E/6gANb/bwAs/yT/JAC9ANUBdQGiASgBggHEAk8CAAKyAFD/eQGbAnoC6f8/AEADNwMlA2sBFwBWAJv/Y/50/hQAyQBEAZcCyQJiAnIAS/8f/on/DwD3/Yv/kP8cADACYAAI/c/+t/2J/Mj9Jf5g/zj+Yf0Y/BT92/1Q/yIBmgE8AfH+5/5EAAz/ev4k/rD9T/4M/sv+rv0r/Fr8Iv2//R3/7P6x/oX+rv4o/7v/3f+l/xABNAFlAFb/SP+Y/5b+Gf8i/rj9x/5y/ZL9z/uL+4T7XP2lABsAyf6z/kP9lP1N/5H+pQDf/5T+xP+9AL7/Sf7aAE3/pP7d/tz9/P4+/gv/Y//N/i39hPz0/On9n/6z/+j+xf5SAeUA7f7Y/QX/iP2S/cT+Pf96AEMAWf/W/q79b/rX+zv8Afvw/Jn/gP9//lP/TP1v/kP/ff/l/Yf9Qf9u/cb9e/xc/ID8fvy9/KP80vwC/tD/IADx/yIAev7Y/cb/gf6H/e/7Av1Z/7D/PwAJ/wL/ov62/Wr+ov8WATkAYADkAKAAxP/Q/xIB/ABE/539Wv4D/vn9t/9f/5b+GADB//3+sP/p/iMAtwEaATUCWQHq/3AAowFOAZMA5v6Y/TT/tP32+1j9t/wQ/pD/nP+MAMD/VP7M/YL+4f1y/fT95P34/OX+lADsAUsCYQCX/b7+iACy/X39LP0z/q79yf7E///8v/xw+5v8Z/5CANv/Hf+s/5v9uv3y/VT+9P29/jQAKwCo/sv8Rv36/fH+df7b/rz+Pf2//Yv81fxd/pr8Pf2q+7j7Rf7MAOoCDABMAHUAWgDw/8P/Sf+A/6P/Tv84/rr+pv8w//wA6AC9ASQBdwH/AGD/sv76/RT9j/6w//T8tf1j/qj+zQD//nf/zP+B/5UAHgDTABb/xf3A/NL9v/z/+8n95v0RALL/Ev+c/hIA8wFJAJYBSQLj/9H+Mf4d/4r+M/4q/6f+MQCwACT/7f6yAL8AZf/l/aj+LP97AOT/fv+M/9f+wABk/0X+qv5LAOn+Iv/WAGMBHQC6/lv/nf/f/Q3+Of9i/rb+Pf0G/j/+Bv1H/T79tvuZ/Rv+E/5//7L9dvyF/PD9cf3B+3f88vzi/WD/CwCQ/w7+AQCq/v/+s//7/34BYwHzAdsBDgMEAbX/cv4U/rv+Wv///u/9S/+iAFgAWv/O/7kAXwI6AZr/kv7m/gQAWv5o/j3/sP79/s//pQFXAhEB8wBoAYUB/AFKAgAAgv/2/o3/jACU/93/WAETA6wCDQNtAi8CTgJbAZf/Uv+U/67+ZgC0AM3/GwBmAK4B4QGMADIB+ALNA5IDzQKNAV8AtwAmAI7/TP5K/kD/KAAi/+H8rf+yAAQAsv7d/r7+Uf/uACAAvwBFAW8BZ/8Q/wQArf7I/k3+P/6U/9X/d/6D/+sBjf+5/+4AKgGp/44AkAIiAN//HwFUAY8AbADtAAMB9/4w/8IA4gL9AXL/hv29/pAAdf6w/vv+Fv8t/x7/UP+h/6IAsAHpAI0AkwCLAVMCwAK0AncC7wDY/0wBmACgAfIBxwGgAFH/Pf+u/+L/SP+lAKQACgD9/TT+Ef4M/7//L/9B/qL8aQCJAAcAgAB7/zb///47/iX9PP4mAK7/SP+PAJMCvgJGAg4DEAQLA0ECawFXAC8CxgC1AXgCXQH4AIQApgJZAnAAbQHGAP4AYwJhAYIA5v+c/+3/kAA6AIsA+gGSASz/Jf4g/+f//v8jAZH/wABT//D/JgHz/bD/9/0+/aT+7P67/oL+g//cAFIA4gHdAJX/M/+2/tn/WAAxASwAOwEgAO4AMgBy/zX/KP9WAVoA4QEmAscBLgKYAxQCFgBy/3gAWwKaAcMANf/mAHAA9v/o/6P+mP44/s/+dP8VALL/fwB/Aa8C8wHZAP7/Cf8zAJb/rv8X/x4AIwByADMBzwDYAb0AFgEzAlABqgDfAVcAsv6i/98AzgBVARsBUP/z/gYBNgARAQ0C8/8IA8EBQgHQAJ0AFAFD/3gBjwB1/oj97/6H/+H9lv6n/ev98/66/7X/jP7u/HD9d/9J/Tb9hf+v/wYBjAHk/wT+aP5B/3j9gf+x/rv8tv4P/bP9dP/j/Ef+bf/MAFUAA//wAFQBEgHs/1QB8P+x/rv+jv8wAW0BNgIsAkECRAF6At0C+QCvAIb/HwHMAVkBWABGAQ0CqACrAaMABgLFAcAAXAGh/1b+u/7M/7QAqgE9ArYCWgDd/sz/DwDh/9L/xwJlAuUCUwL5/50BIAG8/90ACgB0/qH+uv1X/+L/TAAeAaoAoP9IAMr+kv4E/w7+jv/J/5cAH//D/tz+Kf8D/3ABNgL0/z4Ax/1y/Q3+pwCa/tD+IgAmAFcAg/5fAV8AHQB9/ov9bv90AHP/k/97/+P/QQFZAEUAxwBdAXMAdv81AGMAtQHmA1UC0AH+AXADcwM6ArgCagTpAvUAvgDwAAIBuP8J/lv/cgJgAMj/3v7G/tL/LgCWALgATgC9/6v+RP5t/tP9b/01/pwAlf91/vn9efzs/Mj+8f44/wv/8f+X/4H+bQA9AXD/6/+bAbAAowAYAPgABAHLAKEAGAAJALAA+P/F/+YAnAHIAc0AgP8k/hcAgACDAR8AngBPAdMACwENAAEBOAE8AscBCQHVAfkBFADYALABPgBfAPH/V/9e/1MAvAALAfECMgOIAiUB3QH7AaEBEQHWAuwDwgLtALAAdgKx/87/UQEOAMAAQAMQAacAWgEAAdEAhgGrAJn/dgC8AFwApf44/v78ef1S/fr8hv6B/+v9G/6e/0/+bf/U/u39lv6t/2X/DP9F/ur9PP51/Ov/kADv/yb/Wf5b/vT+egD9/9QAqv8hAFoB6AF1AHgAkgL+AcEBSwAOAGD+kP70AMX/fP9rAdEBm/9e/jf9QP11/5D/M/5O/nb/kP4z/pH/gP+FAS0ChwPnAHb/FwC7/yACCQBP/zr/EgAIAf0BvAE6AaIA0/+4/2z/XAFuAZcCngFEAA0B2f9/AFoBUwJvAaEAmwFsAa8BhQIMAeb/xAHdArcBKgHLAboCIANCAxEEfwJTAWIB+wG6ABcA7wC//xMAMgCR/4j/cP8RAagBHQKeAY8B8QIhAg0C6QAlABMAGf8z/xMA7f6b/Qr99P4eAAP/1P83/1b/JP42/kT/Tv/Y/13/rv9rAFACnwE5AW8BQgDY////rwDc/yv+IP5O/2P/KAD5AHQAiAFzAEf/uP4b/hP+vP7GALUCaQKT/3z/jf4C/zb/VABw/4z99Py6/Q0Ajv7W/UP9YP2Z/rz+f/3O/Fr/Yv8a/WH8q/pb+0T8X/xH+tv6Aftr+tX7Lvy5/Vz9oPtl++f86/xC/uL+af31+3X8pv+E/wT+kv/EAJn/fP4o/8H9vP0p//j8dvt2+1f+nf6w/fv8wfwRABIBZAGcAaAAPv9hANH+kv7f/yL/eADB/0r/cP4O/wn/Zv6d/5L/kAF3AjACZwJXAhkBqf/wAG8A/f/5/S79xf3L/P37wPoO/Vf9n/6e/5j/BgANAbX/Zv7h/6f/+AHHAMf/bAGaAawAMwGnALz/GQCGAMf/cv4p/y3/GP9HAJX+Of5jAKwA8AEGApwAy/6D/8//gwCWACkB8AF5AV4BeADRAOf+0gDVAucA5QAY/0P+mf4LAcoByv6G/vn+uP9+/nL+1/61/ZP9u/5M/+/94P+NAUgCYAKuAK0B/wCcAJYAHQDM/1wAFAHQAOb/v/2Y/qn+Wf/k/j3+pP5qAHEAt//kAQgAT/9S/wn/DQA9/xT+Hv6C/U//kgH2AJAB9wBZALkAWgBH/hT+sP9T/+P+//wI/mn/aQA6AcQAkwAoALMAjgE8AQgATf8//jb/IgC6AhkDugFGAYIAJQAkAHEAHQDq//b/gwA9AtoCvAFLAWX/7ABfAX8CuwOHAFn+Q/8MANf/1P7g/Un+Of6C/2MAuwANAJH/HP70/eP9aPwV+6f8qP7c/4kALv9RAMwAWgH8ABsChgJRAAcBBAA5/2YAgv9s/wAAZf9x/vb+OgAfAF3/EgAK/2P+jv+f/hb/D/60/Zz++P5a/80Asv+B/Rb+Gv4n//n9Bv5g/6v/FACCAOj+PP/0/wr+7f+VAE4ADgBd/sf+o/4E/tv+zf3//W3+mf7s/9j/D/8y/8QBrAFL/0z+K/+uAMcA0wD4AdkBqQFu/7X9xv5f/nD+/v3a/oz/zf8tALgAuf9T/hQAhQD//z0AQAATAQsBSwG6ASgBAwHiARgCMwHqAH0A5AAlAAz/t/0W/sD/if8E/oT+kv/0/hb/ZP8p/zT+3f8mAZkA0f6a/Ur9Z/0p/q79Nv6E/TP+V/1r/Ez94P0N/Tn+DQDj/1gBEQAOAeMAXgCJ/3H+FP8A/xwAq/4f/qn+ef8Q/+39l/0f/Nn8YP3m/j/+tf1C/18Aef9s/kn+aP4Z/jn99v1s/ez++/00/+H/ef72/Nf9kv+G/uz+av/U/jf+Rf/S/l7+B/2r/e3+Q//2/i/+Dv22/fT+U/9//4T9qPyd/uL/sf0D/y3/tP3z/Xn+M/9h/pb++P3z/fD9Zv6Y/lb8evse/YH8bvyF/eP8VPyf/KD9b/39/pT/3f44/rT9zv2B/m79Pv1B/fj9jP7//cb+O/4Z/vP+k/+j//b+hPst/vL9xf3GAOn9rPyi/Mv9Vf4c/8f/tP4j/g4APACF/yoA3f9OAdIAD//E/qP/iP/t/Qn+aP5Y/3b/PQBB/939WP9o/t3+UP2D/An+ov5p//z+AP7f/A/+tv5//pP9B//g/lH/lf/a/7H/8/2e/kr+Wf4W/Lr9VP1W/Sr+e/7EAToBGACf/2j/mPyD/Ov+2v9g/zT+Pv1b/aD/j/9B/jX+e/4o/w//JgGiAoAA4v7i/TsAFACOAK0BsQD4ADAAngADANH/JQBQ//X+UgD6/mv/cgCC/z0BXwEYAosBxgCXAFcAs/5c/uf/XQDQ/in+Bv9t/vX+L//1/4P/nP9o/j3/8v7I/sf/Lf5f/sv9Bv2//ZP+IP20/bP9nv5E/679Av5K/8r/8/6H/uT/OwGSAB3/aP86/7X9ev8WAcAACAG3AFMBPQEZAOcBuQBZABMAhgADAMT8p/0s/ur/c/+6/Cf+O/7y/en+Kv+1AU0Amf/bABgAHQCKAZYB6/+w/hv+9v1+/br8DfzE/ID+2f7UAGYA6P0y/+n/BgFT/hD+m/4b/7j+1v9VAZADOAO0AI4CbQBOAmQBxQBuAFAApP7P/voBpP/l/nL/bwHB/rH8uP5w/t/9Wv5e/V39D/0j/Gr+TQCyAbMCxQJgAXACYwLsACkC9QB+AWwAyf/bAN4A/f9XAQgCDQBMArsBwQHIAQACUQKMATcChAIiAdcAcgHpAQ0CvgFEAUQAPv+P/uj+Nf3i/0sAOwEdAfMBoQIiALoBhAHRAYAAAgFKABz/bQC9AdYBNQAPAN4B8QAn/1oBtgD4/zsAsv5s/uT+NP5l/ef9LQAAAM//ZgCT/q7/gAElAm8A6QDMATEBEgLLATMC4QH8AMMB1AGLAK8AbgDbAAcA6/32/tf/Yv8sAZcB4wCNABEASAEVAKAAugEeAPYAagG6APQAQQFfAQgB1P8g/2L+/P7ZAEQAqwCUACQAygByAAH/if8GAPn+1P5m/kz/F/9EAEUBlQB/ADcBNAKAAU4AkgGWASf/Ev+4ANIB5QFiAPT+SgDcACMBEALoApUDhQKDAooCYwC+AE8Bxf+W/XP9GP/CAJUAcgCI/3MAsQH6AWcB/v+kAA0AuwD3AdYCUAHpAIgAlQCCAJD/0v6k/rD9i/7VALYBJgIAAZYAgQB1AKb/xgA9AQoB8wDXAPoB5gFWAvABzACTAnwCDAGXAQYCrwHGAfUBlQLzAcYBxwJgAeoAhgFhAIsBTgMnAo8A2gCXAFsA/f++/7MBfwEaAE7/UAA4ACcC3f/w/eD+i/8iAL3/y/6//qb+8v0s/0v93f6S/uv/Vf/X/gv/PQCkATQB8f+O/3cBvwASARMBagE3/9T+IP64/q3/uv9E/1v/X/7r/eb8uf3t/1j/xv/n/lMAHf4e/tQAjP7i/ET+sP6w/Q/+8P7IAEn+Tv1V/1r+S/1V/vb/Cf+U/oH+yv+i/bT8Gf29/+AAa/95AMz/hwD5AVsCvgK/AnH/ef7P/lH/Ef/W/4j/4/+fAB3+BP+GAOP/8f9Q/+r+zv5//64A2wAAAEr9e/7pAFsCHAHAAXwAZf+ZAZkBygFLAZECSAMxAygCDQISA8sB5wB6AaYAgwHKADT/UP/rAOEB8/4z/4f/Lf+//xkA1v///fv9Ef7D/fr/kP87/yL/j/2X/bP+Yf9X/bz8tf83AUgBOAFlALAAfv8bANkAiABNAB/+Kv3+/PL8JABlACv/BP8xALQAs/3W/q39G/2w/2H/yv27/dD7Zv1e/6r/mgCG/yb/3P7Z/4f/I/+R/Tr/M/6I/ewAfACc/wv/NQEJAPz+Jf+7/Qn+m/zG/Rn+/v8sAMX/zgB5/icAs/7u/dX/swEOAVj/Of9zANoBHQG3AKz/gf9I/yIAov7P/1QAMf9LAJ4AlQAEAeICmAIbAskAGQGyALIBUAE4AS4B9ACNA5gD/AJrAYgCFwL8AEwCaQFM//b/YP85/1cAawDk/lf+qACgAQICkgBZADAC/QAYAML/NQDqAdkBpgF2AVUCjgCn/jD/JgD6/18BEALfAVcCsv+3/tj+JgDy/8j+rf7R/VD/Wv+g/sz/sgBeAWwA2QEaAoACSANRAkQCKgTlBA0CAwKBAmoCHwMMBKkCBwIuAl4DGQPbA+AC0QBZAhsB8QGvA1sDSAH3ASQEMwOfArQCAgHo/jL+SP5b/xcAz/6J/x0AqwAAAkgCcgHsAL7/D/8Z/+n/FwBP/0wAFgHyABEAFwIlAvwCZwGW/5YAJAG2AmkBLwCVAKgAZgDwAXYCcQNfAmsBnANHAqACOgM9BO4CTwIcA7kBQQJ3AJwAYAGpABgAGgFEATIDfgKPAT0E8gJyAXQASQG8AWwBDgFSAdUCPAOkAgAC0gAJAOcAvQEuAdQAgACA/pD9If4w/uX+Rv4Y/YD9eP2C/vL9i/41AMP/fwHQANz/pv/G/eD9E/9n/8X/c/66/p8ABgEdAqgAEAB8/+79v/5AAOb+n/80ACcBJgFNAPYAzP+DAOL/Nf6p/u3/y/6l/+AAeACZ/fv9Tv8L/nf+2gDnAfIABwCjAPMAFv85AJ8AowJcAkgCKQFbABwCqf8LAzME0gFCAjYDfgIVAncCggH6Ab4B9AHjAFQBwADYAcgALgEYAsIAMwEXAO0ArP/YAMb+i/2N/iX+Mv6wAPIBPP/UAOgAPAE6AlIBzwHCAoMClwHhAekAxf9JAKwAdAL1AREB/wEoAfAAQv/K/iMA4P+K//0AwwGiAMwA7//X/2IBmgA4AEgBMQH4ARUAYv7M/54AYwBD/wb/vf9wAPT+u/0u/hj/Pv8Q/iT/fwBPAYoBagD2AMMBRAF9AUoD2AGK/yL/Av80/sn9tv6c/1X/mv06/0MAqwFmAx8D1AIdAk4CTwEMAosBzAAlAiMBpgAuALoAxAHBAPkArABgAB4BoQEDAvMCNwJ7AfECKANAAl4Axv/4/8T/T//E/3AAEgAKAAoBpwAzABL/tf9SAPz/RQEnASsB4v+l/xH/O/8O/yYAzAHCADX/CgCvAVgBHgLLAbUAnABGAIgAmgFAAhQCUgGNAjwBRgK6A7EBeQMoA+gAeQCIAMsBUgKeADP/hf+z/lT9jf3M/cr/XwDq/pL+Iv9o/00A8QD5/ff9hf7A/xwAL/4O/+cA+AAzAPcAZv/i/iP/Lf+B/rr+QgDGAHgAIgCfAMb+aP07/wX/nABfAegBWwLr/wUA4P0M/vb9DQDXAAgB5AE1AfgClQK3AeIBdAIBAFMALABq/64APwCZAKsA4P0n/Xv/3P6q/63/oACjARP/TgBtABwB7AAG/+f+Av/r/jj9Vv71/YT+lP6j/dD+Vf9y/uX+ff67/eX+Rv7q/5IAjAF2/6X/0/8B/uz7bfuG/Hj8AfzO+gH+a/1e/CL7KP0i/5r++v5q/jv+pf6V/nr9Svyj/Lv81vqv++T76fsE/Rn8nPt+/Cb9x/4//mr8bf1t/37+qf6E/xT/CwCU/5b+Fv4O/53+Pf60/qX+8f7C/Rr+wv1o/pT+Mv+n/nX9M/4U/kH/Hv71/5EAgf9q/wb+lf9qAVEA8f7h/p7/TQCGAEgBvgIKAv4AJQIoAYEBJQBu//j/wv6N/o//vv8F/wj+Jf7dAJkAtQAkApsB2QKOAl8AmQGiAaL+rP9+AI/9Kf/b/1gA3v+dAD0BigBwAMYAhAGRAFkCMgFdAGj/yv9gADIAnwHaAVABPwCsAEf/7f0p/xMA6f0f/kv+K/yW/XP+O/7p/Wr+qf7o/9UALwAD/5r/Xv4W/gsBSAF2AZAAjwC7/xP/jAAIAPb+BwCj/zX/v/1f/Sv+p/7F/3j/lgCM/zj+/f9i/5j+yP98/uf9Pf6L+337Ef3d+2T7xvu//bv9TPsR+yv8FPy1+zn9Tf7D/CT8xf3Z/nr/Hv7N/lwAW/5HAOj/D//j/u3+MP0y+xP84fyR/q39mv3R/Kz98/tj/Gb8vPw6+4z4vvly+ub6rPp8/Kz7l/wL/cP99v6g/o3+U/5r/vH8bfy1/Ib7Uf1u/NT7YPv3/KD++/sE/Vn8R/ry+fP7yvtQ+i/7ifxi++78Bf2j/Df+L/71/cj9Xv4e/lT+Gf8n/sn8if5T/pj+nv/w/mb+R//8/jv+wvvp+YP7I/zU+tn6+fy3+5D8SP7O/Vv8nfyj/J78mv2t+4r7A/sh+w/8vP0l/eD64fk/+kT8M/w+/IP88vyb/G/98fyh/qr+Gv78/g7/uf42/hwAhP9g/pL9gvyb/Zz/EAAIARD+/f2q/Sj9x/3q/IP7kfpE/bv9A/xU++v8rfyi/d38Af0f/pT8lvzk/GL9mfw//nL+Wf3l/Xf9ZP3v/KT9sPwq/hb9zvsj/TT+if3Z+8v93/66/qv9bf+s/vf+2f7v/BD+av+//RD9Vv3L/e3+8v4v/9b9mP6//vf9CP5n/y//EQBAAAX+C/12/CL9mP0f/QD9fvxG/Cv+HgC1AKL/t/++/in/KwDG/rj/M/5W/br/dP5x/f7+bgBeAAIAdf+W/T3+Lv4+/jL/LwBFAPX+p/5d/ZD/Gv4F/o7+Mv6+/uT7//0+/j3/Df9K/0j+Y/yP/QT9Af3N/d3+9/41/2v+GP6E/WT9H/7k/ob+g/3j/Mb85P0S/gn8TvsT/OL81/wh/Lf8fv5h/YL9Yf7W/NH9Jv5d/kgAhABi/yb/i/9/AFr/If5d/kL9uP1r/qf+1P8T/sT+8v27/OL9y/7u/aL+e/+G/Af87v4A//37Vv0Q/hb+cP5g/kn9PPyZ/J/+r/1w/CH8bPw//F/6+/s6/Lr8mv6D/nn9zvyi/FL8oPxs+0/8s/4//bj82/0l/0/+Xf2J/UX+Zf9V/3n+nv1u/gn/h/5a/tv+jf7R/Yz+tP6j/ir+uf55//r+O/3k+1f9Qv19/UH+bv+I/8P98fzR/tn/+v4j/5z/ngB1/kT+1/5jACL/3v56/sr7jP8xABUBbv6U/aX/9v/y/wz/jf2o+zP7KvxJ/Tn8svxI/Zv+mP8YAf7/5/7K/1b/eQC/AT4ClgI2A8QCjgG/AUoDJgQ7BE4COQAPACD/Tv8AAJL/S/16/QX/9P5R/hn9Yv3d/24A9/+dALH9MP/+//v8nPxP/hMAlv/f/n3+Qf/2/sT+Kv5M/sz+NP+ZAAYABAB3/1j9Xf0b/c/7wvoR+ff7Rf5x/b/7Ef0s/hT9kvxo/Eb9qP0N/nr7Nf01/cv8rfwb/DH+G/5D/p7//P+N/C3+XP9A/63/6f4w/pX+LwEAAAcAsP+N/8D/lf/O/+X/mAAoAPn+tv70/pb/pv+l/f37GvwD/sn9+v3b/XP+3gCl/yH+xf20/r4AbAAVAKb/jf98/+z/Nv9n/t3+D//9/Uv+cQBxAJgABwGfAHwAKAEs/7H/twBPAL//ygDmAJQABwFtAIEANwAVAHT/Sv56+wn8i/1d/r/9d/wh/Qf+nv2i/WD+Kf7N/rL9/PvB+tb6Bvxx/Ar9v/1Q/Ub7DPzz/NT9LP0L/ET/E/4s/sP/wf4z/sv8//kj+jP8qP1w/vT9yf27/nH/+P3Z/g7/v/9S/zT/HP/B/pr/SP7v/Sz/kgAUAF4AcgHx/6P+av1i/EL9Uv25/fn9dP19/oH/gf3z/9wAFgAh/jD+vwEi/pL+FQD6/74AzwDd/q3+HQEoAGcA1P5K/l0AS/9s/gj/pQDvAAgC1AA7/cb9Fv+q/5r9vvyy/+z++/1X/mf92v67/0QA3gAaAFQBtv+e/mgA8v+m/4v/0P6b/7UBPwHvAFEAQADrAOX/Ef45/8f/N/3M/nn/QP4Y/yEBSgAt/6UAFACTAO4Aaf+iANgBLAAk/n/+ZP6z/tX+cv5cAKT/4QA4AlMDZwEIAAwBp/9sAUUAQACeASMCPwKuAg0DwgLcAdIBmAET/y0A2QBQAfkACgGvAdf/bgCMAIj/kP5O/kr/3f+CAGEAqQE2AK39iv7h/xYBHQDc/ykAmv+j/xsBhAAoABn/7/0b/wcAMQEOAUABRwFXAKkATwB1/mX/+v0F/yv/dv+JAJn/nv/I/qT+S//G/1kA2AEdAF8AtwBM/73/nQD1AVoDrAENAhUCigGYAYYBAAEnAMEBOALNAFn/QAEvARUBXgJw/5T90v4K//H/UP/w/+gAzP5//k//P/4z/F39IPxI+gn85fs9/MX7dPuz+7j5xvvB/Lv9Of4z/ef9UP6b/Qz+u//k/v//+wDwAc0BAwKY/+n/YwGzAJQC5gITA5kBfAD7/1P/oP/f/5X/M/+f/4UB3v8u//j+6f4L/xb/cAD0/9sAZQGH/00AkgGgAAwCgQIOA/kAuf8L/9j95v+BAZAB1wAfABP/WQAR/zP/NAAfACkA0f7Y/07/5f4qAGwByQARAMAB+gHVANX/nP+J/17/ZP8CABUA2/8FANn/of/x/kT+Dv/F/pD+k//R/hr/rf9OAa0BpgC5AK3/Kf/k/5AAJABGAMQA+/+W/tr+7//U/7j+SgDYAXoAi/+j/UH+Kv+P/hMAx/8N/pL/2v9d/xj+y/0q/6z+rf+j/1X/Of5T/vz9oP+S/8/9q/7q/qb/Df/k/bP9t/4Q/kn+nv40/2T+UP+mAPT+AP/1ACsBlv9Q/l/9rf0P/zoA+f4L/uT+9f9SAMn/a/9d/0X83vzB/cb8Nvy//Yj9Vvzc/Jr7hPsf+1/8Lvvy+0D8Nvs9+239VP1D/t/+3v0Q/6H+NQAVACUBkACRAEwA0P8d/4T+9v2j/8IAsf+R/8z9PwAtAYcCgwFD/pT+jf3l/k7/zv5WAJAAXwCk/1AAOAAZ/2L+Wf6M/Cb9U/6t/lT/Vf7D/rz+Sv9T/t79tv8iAbv/MgEdArICBgPHAsACiQH2ARYC/QJ7AxIEEQF5AXsA5/+MASkAOQDA/30ADAH8AQAAB//9/XH87f2s/lT+3/66/gH/pQDU/mr+X/72/a0AIQKBATYBRv+R/ij/F/6E/S3/bf/Y/t39V/2B/Xn8Hf4F/gUAigHyAB0CKABJ/6r/cf8iADEAjP5k/Xv+I/6k/b//iQBW/+z+nf84AEcBawFQ/wgAiABG/x0AdABwAIcA/QDvAAEABv+F/wsBhADSALgBwwB/ALf+k/7V/jIABADB/5cAqf9LACj/5f/l/kL/ZQAJALn/Mv8sAPsAWQCU/8T+J//fAV8DqAGP/3QASP/o/8IAzADRAL/+Vf4e/ycAVgAdAJIB6QFCAJcAAwGMAKr/FQCYAG4AGwEWAJoAlABjADwC4wGUAs4BswLsAREBVwGHAFwBtADFAU8BBgKoAfYBQwCR/4YAov8NAJAAPf9a/RIAWwBC/8//A/9m/u//zwCaANn/AAEwAvEAjwEzAnwBGQLkAB0CMwL2AJ4ACAA3ABgCJgQ7A5IC1wHWAcsBCwK9Ae8BSQDs/yYA1ADe/7EAggJDAmsBEAFIA7QBIgL7ARAA9QApAgQCMwEQAXkBlwLbAnUDjAPGAXUEPgL7/0ICvQHNAe8BIQKQAmgCOgL7A1EDPANXA+ADCAToAocC3QLoArgBKQMEBe0DpQI1AhwBsQJLAQ8C+wGBATgDqAIpAm8C4AI1AYgDygM8AyYEywHVADQCWAKGAc8BUQGp/20CpgLlA4cDFgI9AukBnwR4AlgC7gDHAJADsgL9AhcDJwImBIAG4wZ9BYEFAwZmBHEDWAOmA/wC6gEUAez/6f+dAgwCaAAN/9j+LQFPAVn/3P6EAYAC/AIyA0wD6gKJBKUGcQVNBRMFZAS7A1wDYAHgAQoERgU2BPUCgwOWA1sGnQa/BhwGZARdAxgEjANvAXQBVgJVA2wA+f1tAFUBZgENAdkCbASKA44DiQGbA7oCkwEaAskCGQMvAh0CywLpAnYBRALnAcIBbQM1A78BXQJxAy8DXgOZATQBVgABAW0CggCCAMz+NQDMAGwBYf8s/sP/lwDnAHYA2gGiAjEDlgHGAEIAhwBQAU4BbwEyAAgBUQNYAz0GbwaXBQkEkAI4AhkCCQJIAa0BwAFjAkEC9AISAi4D0ALcArABNwD9/7L/AwD3/+MB4ALbA8MB4gD5AVgBVv61/y4BSgEeA+EC0gJhA38CdwEsAjYBQAIAAx4ChQJUA3wD9wMNA70BDAECANwBjQC7AMECgAHvAEACOQL7AMUBFQEMAckCjwPjBMcEOQIFA3wD7wKJAewAnwJtAmABzAJwAQABaAPNAtgD2AXyBv4F7QVeBLYE5gKsAbQDdQJvAWwBUQJ+AyEEqQNJBAcE8wR6BGwEDARJAgADIQO+AmAClAKdAhwBswBmAqIBEQG2AQ0CVwTPAm0CRQLvAb8DPgPgA3UDXALhAekCNwLzARIC+ABUAQ8AGQDXAf4BAgJJApoDVwRJBAEDkgPOAkgB/gAzAVwDhQRPBT8DZwN3AsIBOQOWAvMBgAEDAhQD+QD4AMwAjv9eAYoBDgF0APMCvgRfA50D4AStAw4Csv8p/7j/TAJwAwUDYQSLA8cDOQP4AmED7wNJBOQEmAT+AoUC2AFFAX4CzQEcA2QCKP/pAfADTgOnA7sENAReBOoCXwH5AV4AdABiAwwENwIsAuwB9QCYAmUCHQEEAhQD7AJ8ArsB/AJDA0sBGwF3AdoBUwOoBaAEogR1BLoAtwDmAD4BiAGzAIkBggELAUoC9f8A/5kB+ADyAakCDANGAsgB6gHGAp8BkgE6AmkBAwJjARIBAgGkAOsAFgKUAnsCngA9/+b+hv+SAOgCIQIkAX0BgAKAA0AC5AFWAnYCKwEhAfL/yf8vABEBIv/L/mgBUAKmAbX/5gE8/9D9TwD2///+RgACAdcBswH8AJAB1AH9AtcBVgEpAhMDLgMrBL8DiQKVArMC9QEMAugBHQGqAB0AMf9Z/xX+HP/zADb/0P9f/xwBegIvAc0AOQDo/7v/PQCXAe4AJQC0/2kAewCI/+H/a/6i/qwARQCIAL0BzAIIAyECMwLEAnoBWP8TAWcBzQLHAUX+vv/gAMsDlAN5A+ECJQF4AyIEIwI2AaEBVAIxAxkDugL8/0r/LP7P//EB0/+hAAABIP+B/gX+Iv/y/lj+Bf/g/6YAJv5r/q7/WAGUAe4BuADuABEC4gG0AlACTQEDAK0B5AH/AiICAgG7/0P/ewINAyUBl/8IAKz/+gBPAucAxwCJAZEBawHyAA0CPgO+ArYB+ACFAUkChwItAq/+Pv7z/9EA8AFEAasCggH+/8IBiwF2AIwAhABLAJ7/Q/98AAQC1gEDAvoCogLSAUIBfgF4AuwBFQMuAp8BdQJAAgkC3f8fAKz/Of8xAdcCawIQAgUB1AGqAcYBJAJIAoEC3wBDANMAGQE+/6/+jv+HAUoAUf6W/hP/r/7g/p7/sv9R/zH/RgB5AGX/pf/R/7H/RwHVALX/bABBAW//5f0Q/wcAqwEqANf/IABP/6r/V/5iALj/TwCFAcAAgv84AMkAUADHAQ0BUAAuAN0BEAKiAbT/1P9M/1L/EP+3/Wb+TgBHApoAlABGALv+L/+t///+Ev9o/kT/EP/T/7L/QABcAO79x/7//oQBUQNcBUkEsQNOBUkEYAPQAwMEsgNpBf0EhgMBAgcDNQFaAoACrwAxAtsA5AAfAnUCaAETAz8ACQAtAl8C8QLoAVIBHwA+AekBRQFH/30BRwIQAT0CdgLdAncBZQF4/4X+LwAUAK8ABgA8ACwBTAAPAIEBVgIyAEsBsADxATkCiAAaA+YBawHpADcB5wAkAIn/xf/s/8IAoQIMA1UDoAEuAfABSQCLAeACEgDl/0b/NABPAYcB9ADMAU0DRwInAzQBpv/l/nv/DABH/4kA0QGLAcUBFwJ3ApAC7QCMAYkDUgRrAtkC/AJrA+8C/wETAo0DFAKQAQ8DzwItBWIF3QWPBFAEvwPpA9oDNAVTBLgDLgW7BI0EgALHAtACoQH8ASgBtwBoAlwCMAKEA7ACUgFCAWz/7QA=\" type=\"audio/x-wav\" />\n",
       "                    Your browser does not support the audio element.\n",
       "                </audio>\n",
       "              "
      ],
      "text/plain": [
       "<IPython.lib.display.Audio object>"
      ]
     },
     "execution_count": 56,
     "metadata": {},
     "output_type": "execute_result"
    }
   ],
   "source": [
    "# shortest audio file\n",
    "min_index = np.argmin(durations)\n",
    "files[min_index]\n",
    "ipd.Audio(files[min_index])"
   ]
  },
  {
   "cell_type": "markdown",
   "metadata": {},
   "source": [
    "## Conclusion\n",
    "Let's discard files with duration < 2s.\n",
    "\n",
    "Let's normalize all files to 5s."
   ]
  }
 ],
 "metadata": {
  "kernelspec": {
   "display_name": "Python 3",
   "language": "python",
   "name": "python3"
  },
  "language_info": {
   "codemirror_mode": {
    "name": "ipython",
    "version": 3
   },
   "file_extension": ".py",
   "mimetype": "text/x-python",
   "name": "python",
   "nbconvert_exporter": "python",
   "pygments_lexer": "ipython3",
   "version": "3.6.4"
  }
 },
 "nbformat": 4,
 "nbformat_minor": 2
}
