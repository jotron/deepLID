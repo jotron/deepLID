{
 "cells": [
  {
   "cell_type": "markdown",
   "metadata": {},
   "source": [
    "# Count quantity of sample available"
   ]
  },
  {
   "cell_type": "code",
   "execution_count": 2,
   "metadata": {},
   "outputs": [],
   "source": [
    "import os\n",
    "import numpy as np\n",
    "import sys\n",
    "sys.path.append('../')\n",
    "from helper_functions import *"
   ]
  },
  {
   "cell_type": "markdown",
   "metadata": {},
   "source": [
    "## Voxforge"
   ]
  },
  {
   "cell_type": "code",
   "execution_count": 3,
   "metadata": {},
   "outputs": [],
   "source": [
    "relative_path = '../../data/raw/voxforge/'\n",
    "# Samples should at least be 3.5s\n",
    "# if they are between 3.5 and 5 the rest is left blank\n",
    "min_duration = 3.50\n",
    "sample_duration = 5"
   ]
  },
  {
   "cell_type": "code",
   "execution_count": 7,
   "metadata": {},
   "outputs": [
    {
     "name": "stdout",
     "output_type": "stream",
     "text": [
      "french: 40023, 37.19264241321142h\n",
      "english: 127567, 119.54895984369294h\n",
      "german: 33815, 31.727374479174156h\n"
     ]
    }
   ],
   "source": [
    "# for all languages\n",
    "for i, lang in enumerate(['french', 'english', 'german']):\n",
    "    # count samples\n",
    "    samples_per_language = get_num_samples(relative_path+lang, min_duration=0, sample_duration=5, margin=0) \n",
    "    # measure summed up duration of files\n",
    "    time = get_total_time(relative_path+lang) \n",
    "    # log\n",
    "    print(f\"{lang}: {samples_per_language}, {time}h\")    "
   ]
  },
  {
   "cell_type": "markdown",
   "metadata": {},
   "source": [
    "## Youtube"
   ]
  },
  {
   "cell_type": "code",
   "execution_count": 8,
   "metadata": {},
   "outputs": [],
   "source": [
    "# paths to youtube data\n",
    "rp = '../../data/raw/youtube/'\n",
    "channels =[\n",
    "    rp+'fr/bfmtv',\n",
    "    rp+'fr/franceinfo',\n",
    "    rp+'fr/france24',\n",
    "    rp+'en/cnn',\n",
    "    rp+'en/bbc',\n",
    "    rp+'de/ard',\n",
    "    rp+'de/dw',\n",
    "    rp+'de/zdf']"
   ]
  },
  {
   "cell_type": "code",
   "execution_count": 9,
   "metadata": {},
   "outputs": [
    {
     "name": "stdout",
     "output_type": "stream",
     "text": [
      "../../data/raw/youtube/fr/bfmtv: 7646, 10.75995293402778h\n",
      "../../data/raw/youtube/fr/franceinfo: 12652, 17.781875277777782h\n",
      "../../data/raw/youtube/fr/france24: 6349, 8.959399062500001h\n",
      "../../data/raw/youtube/en/cnn: 11492, 16.42014057291667h\n",
      "../../data/raw/youtube/en/bbc: 11337, 16.209508489583335h\n",
      "../../data/raw/youtube/de/ard: 7877, 11.053021736111111h\n",
      "../../data/raw/youtube/de/dw: 6571, 9.26782291666667h\n",
      "../../data/raw/youtube/de/zdf: 3561, 5.199807326388889h\n"
     ]
    }
   ],
   "source": [
    "# For all channels\n",
    "for channel in channels:\n",
    "    # measure summed up duration of files\n",
    "    time = get_total_time(channel) \n",
    "    # count samples\n",
    "    samples_per_channel = get_num_samples(channel, min_duration=3.5, sample_duration=5, margin=5) \n",
    "    # log\n",
    "    print(f\"{channel}: {samples_per_channel}, {time}h\")"
   ]
  }
 ],
 "metadata": {
  "kernelspec": {
   "display_name": "Python 3",
   "language": "python",
   "name": "python3"
  },
  "language_info": {
   "codemirror_mode": {
    "name": "ipython",
    "version": 3
   },
   "file_extension": ".py",
   "mimetype": "text/x-python",
   "name": "python",
   "nbconvert_exporter": "python",
   "pygments_lexer": "ipython3",
   "version": "3.6.7"
  }
 },
 "nbformat": 4,
 "nbformat_minor": 2
}
