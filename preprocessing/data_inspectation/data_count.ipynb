{
 "cells": [
  {
   "cell_type": "code",
   "execution_count": 2,
   "metadata": {},
   "outputs": [],
   "source": [
    "import os\n",
    "import numpy as np\n",
    "import sys\n",
    "sys.path.append('../')\n",
    "from helper_functions import *"
   ]
  },
  {
   "cell_type": "markdown",
   "metadata": {},
   "source": [
    "## Voxforge"
   ]
  },
  {
   "cell_type": "code",
   "execution_count": 5,
   "metadata": {},
   "outputs": [],
   "source": [
    "relative_path = '../../data/raw/voxforge/'\n",
    "min_duration = 2.50\n",
    "sample_duration = 5"
   ]
  },
  {
   "cell_type": "code",
   "execution_count": 7,
   "metadata": {},
   "outputs": [
    {
     "name": "stdout",
     "output_type": "stream",
     "text": [
      "fr: 40022, 37.19260685765588h\n",
      "en: 127567, 119.54895984369365h\n",
      "de: 33815, 31.727374479174134h\n"
     ]
    }
   ],
   "source": [
    "for i, lang in enumerate(['fr', 'en', 'de']):\n",
    "    samples_per_language = get_num_samples(relative_path+lang, min_duration=0, sample_duration=5, margin=0) \n",
    "    time = get_total_time(relative_path+lang) \n",
    "    print(f\"{lang}: {samples_per_language}, {time}h\")    "
   ]
  },
  {
   "cell_type": "markdown",
   "metadata": {},
   "source": [
    "## Youtube"
   ]
  },
  {
   "cell_type": "code",
   "execution_count": 10,
   "metadata": {},
   "outputs": [],
   "source": [
    "rp = '../../data/raw/youtube/'\n",
    "channels =[\n",
    "    rp+'fr/bfmtv',\n",
    "    rp+'fr/franceinfo',\n",
    "    rp+'fr/france24',\n",
    "    rp+'en/cnn',\n",
    "    rp+'en/bbc',\n",
    "    rp+'de/ard',\n",
    "    rp+'de/dw',\n",
    "    rp+'de/zdf']"
   ]
  },
  {
   "cell_type": "code",
   "execution_count": 11,
   "metadata": {},
   "outputs": [
    {
     "name": "stdout",
     "output_type": "stream",
     "text": [
      "../../data/raw/youtube/fr/bfmtv: 7646, 10.759917378472222h\n",
      "../../data/raw/youtube/fr/franceinfo: 12652, 17.78187527777778h\n",
      "../../data/raw/youtube/fr/france24: 6349, 8.9593990625h\n",
      "../../data/raw/youtube/en/cnn: 11492, 16.42014057291667h\n",
      "../../data/raw/youtube/en/bbc: 11337, 16.209508489583325h\n",
      "../../data/raw/youtube/de/ard: 7877, 11.05302173611111h\n",
      "../../data/raw/youtube/de/dw: 6571, 9.267822916666669h\n",
      "../../data/raw/youtube/de/zdf: 3561, 5.199771770833334h\n"
     ]
    }
   ],
   "source": [
    "for channel in channels:\n",
    "    time = get_total_time(channel) \n",
    "    samples_per_channel = get_num_samples(channel, min_duration=3.5, sample_duration=5, margin=5) \n",
    "    print(f\"{channel}: {samples_per_channel}, {time}h\")"
   ]
  },
  {
   "cell_type": "code",
   "execution_count": null,
   "metadata": {},
   "outputs": [],
   "source": []
  }
 ],
 "metadata": {
  "kernelspec": {
   "display_name": "deepLID",
   "language": "python",
   "name": "deeplid"
  },
  "language_info": {
   "codemirror_mode": {
    "name": "ipython",
    "version": 3
   },
   "file_extension": ".py",
   "mimetype": "text/x-python",
   "name": "python",
   "nbconvert_exporter": "python",
   "pygments_lexer": "ipython3",
   "version": "3.6.4"
  }
 },
 "nbformat": 4,
 "nbformat_minor": 2
}
