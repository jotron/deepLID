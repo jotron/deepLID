{
 "cells": [
  {
   "cell_type": "markdown",
   "metadata": {},
   "source": [
    "# Creating the Libvrivox Dataset"
   ]
  },
  {
   "cell_type": "code",
   "execution_count": 1,
   "metadata": {},
   "outputs": [],
   "source": [
    "import numpy as np\n",
    "import glob\n",
    "import librosa\n",
    "import os"
   ]
  },
  {
   "cell_type": "code",
   "execution_count": 33,
   "metadata": {},
   "outputs": [],
   "source": [
    "# directory where librovox data is stored\n",
    "main_path = '/home/joel/Downloads/spoken_language_dataset/build/train/'\n",
    "# output path\n",
    "dest = 'preprocessed_data/train/librivox/'\n",
    "# languages\n",
    "langs = ['de', 'fr', 'en']"
   ]
  },
  {
   "cell_type": "code",
   "execution_count": 36,
   "metadata": {},
   "outputs": [],
   "source": [
    "# For all languages\n",
    "for lang in langs:\n",
    "    # Find all files in directory of lang\n",
    "    files = glob.glob(main_path+lang+'*')\n",
    "    for file in files:\n",
    "        # Read file and resample\n",
    "        x, sr = librosa.load(file)\n",
    "        y = librosa.core.resample(x, sr, 16000)\n",
    "        \n",
    "        # Path to save numpy array to\n",
    "        name = dest + lang + '/' + os.path.basename(file)\n",
    "        # Files from librivx are 10s, so two samples can be saved\n",
    "        np.save(name, y[:80000])\n",
    "        np.save(name+'1', y[80000:])"
   ]
  }
 ],
 "metadata": {
  "kernelspec": {
   "display_name": "Python 3",
   "language": "python",
   "name": "python3"
  },
  "language_info": {
   "codemirror_mode": {
    "name": "ipython",
    "version": 3
   },
   "file_extension": ".py",
   "mimetype": "text/x-python",
   "name": "python",
   "nbconvert_exporter": "python",
   "pygments_lexer": "ipython3",
   "version": "3.6.7"
  }
 },
 "nbformat": 4,
 "nbformat_minor": 2
}
