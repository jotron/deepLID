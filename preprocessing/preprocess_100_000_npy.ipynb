{
 "cells": [
  {
   "cell_type": "markdown",
   "metadata": {},
   "source": [
    "# Preprocessing\n",
    "\n",
    "**GOAL**: Create data that can be fed to the deep neural net.\n",
    "\n",
    "### Properties\n",
    "\n",
    "- *.npy* file for every sample\n",
    "- length: 5s\n",
    "- sample rate: 16kHz\n",
    "- max padding: 1.5s\n",
    "- Total: 100'000 samples\n",
    "\n",
    "### Distribution\n",
    "\n",
    "- Languagaes are evenly distributed (33.33% each)\n",
    "- 50% Youtube, 50% Voxforge\n",
    "- 80% Trainingset, 10% Validationset, 10% Testset"
   ]
  },
  {
   "cell_type": "code",
   "execution_count": 9,
   "metadata": {},
   "outputs": [],
   "source": [
    "# Libraries\n",
    "import os\n",
    "import numpy as np\n",
    "import librosa\n",
    "\n",
    "from helper_functions import *"
   ]
  },
  {
   "cell_type": "code",
   "execution_count": 10,
   "metadata": {},
   "outputs": [],
   "source": [
    "# Parameters\n",
    "sample_duration = 5 * 16000\n",
    "min_duration = 3.5"
   ]
  },
  {
   "cell_type": "code",
   "execution_count": 52,
   "metadata": {},
   "outputs": [
    {
     "name": "stdout",
     "output_type": "stream",
     "text": [
      "[40000  5000  5000     0]\n"
     ]
    }
   ],
   "source": [
    "# Partitioning\n",
    "input_path = '../data/raw/'\n",
    "distribution = {\n",
    "    # path : (train, validate, test, margin)\n",
    "    #input_path+'youtube/fr/bfmtv':      np.array([4444, 555, 555, 5], dtype='int32'),\n",
    "    #input_path+'youtube/fr/franceinfo': np.array([4444, 555, 555, 5], dtype='int32'),\n",
    "    #input_path+'youtube/fr/france24':   np.array([4445, 556, 556, 5], dtype='int32'),\n",
    "    #input_path+'youtube/en/cnn':        np.array([6666, 833, 833, 5], dtype='int32'),\n",
    "    #input_path+'youtube/en/bbc':        np.array([6667, 834, 834, 5], dtype='int32'),\n",
    "    #input_path+'youtube/de/ard':        np.array([5167, 726, 726, 5], dtype='int32'),\n",
    "    #input_path+'youtube/de/dw':         np.array([5167, 686, 686, 5], dtype='int32'),\n",
    "    #input_path+'youtube/de/zdf':        np.array([3000, 255, 255, 5], dtype='int32'),\n",
    "    input_path+'voxforge/en':           np.array([13333, 1666, 1666, 0], dtype='int32'),\n",
    "    input_path+'voxforge/de':           np.array([13333, 1667, 1667, 0], dtype='int32'),\n",
    "    input_path+'voxforge/fr':           np.array([13334, 1667, 1667, 0], dtype='int32')\n",
    "}\n",
    "# check that distribution is ok\n",
    "print(sum(distribution.values()))\n",
    "\n",
    "# Output Directories\n",
    "output_path = 'preprocessed_data/'\n",
    "destination = {\n",
    "    input_path+'youtube/fr/bfmtv': 'youtube/fr/',\n",
    "    input_path+'youtube/fr/franceinfo':'youtube/fr/',\n",
    "    input_path+'youtube/fr/france24':'youtube/fr/',\n",
    "    input_path+'youtube/en/cnn':'youtube/en/',\n",
    "    input_path+'youtube/en/bbc': 'youtube/en/',\n",
    "    input_path+'youtube/de/ard':  'youtube/de/',\n",
    "    input_path+'youtube/de/dw': 'youtube/de/',\n",
    "    input_path+'youtube/de/zdf': 'youtube/de/',\n",
    "    input_path+'voxforge/en': 'voxforge/en',\n",
    "    input_path+'voxforge/de': 'voxforge/de',\n",
    "    input_path+'voxforge/fr': 'voxforge/fr'\n",
    "}"
   ]
  },
  {
   "cell_type": "code",
   "execution_count": 53,
   "metadata": {},
   "outputs": [],
   "source": [
    "def create_samples(path, partition, output_sub_path, min_duration=3.5):\n",
    "    \n",
    "    division = partition[:3]\n",
    "    margin = partition[3]\n",
    "    \n",
    "    # relation\n",
    "    limit1 = division[0]/sum(division)\n",
    "    limit2 = sum(division[:2])/sum(division)\n",
    "    \n",
    "    # Choice of samples\n",
    "    print(\"pointers...\")\n",
    "    pointers = get_sample_pointers(path, min_duration=min_duration, margin=margin)\n",
    "    train_pool, val_pool, test_pool = np.split(pointers, [int(len(pointers)*limit1), int(len(pointers)*limit2)])\n",
    "\n",
    "    train_choice = np.random.choice(len(train_pool), division[0], replace=False)\n",
    "    val_choice = np.random.choice(len(val_pool), division[1], replace=False)\n",
    "    test_choice = np.random.choice(len(test_pool), division[2], replace=False)\n",
    "    \n",
    "    train_pointers = train_pool[train_choice]\n",
    "    val_pointers = val_pool[val_choice]\n",
    "    test_pointers = test_pool[test_choice]\n",
    "\n",
    "    # Numpy arrays filled with samples\n",
    "    print(\"samples...\")\n",
    "    make_samples(train_pointers, path, os.path.join(output_path, 'train', output_sub_path))\n",
    "    make_samples(val_pointers, path, os.path.join(output_path, 'val', output_sub_path))\n",
    "    make_samples(test_pointers, path, os.path.join(output_path, 'test', output_sub_path))"
   ]
  },
  {
   "cell_type": "code",
   "execution_count": 54,
   "metadata": {},
   "outputs": [
    {
     "name": "stdout",
     "output_type": "stream",
     "text": [
      "voxforge/en\n",
      "pointers...\n",
      "73985 3.5 0\n",
      "samples...\n",
      "function call\n",
      "got paths\n",
      "function call\n",
      "got paths\n",
      "function call\n",
      "got paths\n",
      "voxforge/de\n",
      "pointers...\n",
      "18424 3.5 0\n",
      "samples...\n",
      "function call\n",
      "got paths\n",
      "function call\n",
      "got paths\n",
      "function call\n",
      "got paths\n",
      "voxforge/fr\n",
      "pointers...\n",
      "23246 3.5 0\n",
      "samples...\n",
      "function call\n",
      "got paths\n",
      "function call\n",
      "got paths\n",
      "function call\n",
      "got paths\n"
     ]
    }
   ],
   "source": [
    "for (path, array) in distribution.items():\n",
    "    print(destination[path])\n",
    "    create_samples(path, array, destination[path])"
   ]
  },
  {
   "cell_type": "markdown",
   "metadata": {},
   "source": [
    "## Listening"
   ]
  },
  {
   "cell_type": "code",
   "execution_count": 16,
   "metadata": {},
   "outputs": [],
   "source": [
    "files = get_paths('preprocessed_data/train/youtube/fr')"
   ]
  },
  {
   "cell_type": "code",
   "execution_count": null,
   "metadata": {},
   "outputs": [],
   "source": [
    "ipd.Audio(np.load(files[0]), rate=16000)"
   ]
  }
 ],
 "metadata": {
  "kernelspec": {
   "display_name": "deepLID",
   "language": "python",
   "name": "deeplid"
  },
  "language_info": {
   "codemirror_mode": {
    "name": "ipython",
    "version": 3
   },
   "file_extension": ".py",
   "mimetype": "text/x-python",
   "name": "python",
   "nbconvert_exporter": "python",
   "pygments_lexer": "ipython3",
   "version": "3.6.4"
  }
 },
 "nbformat": 4,
 "nbformat_minor": 2
}
