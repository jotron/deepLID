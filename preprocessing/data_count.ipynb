{
 "cells": [
  {
   "cell_type": "code",
   "execution_count": 2,
   "metadata": {},
   "outputs": [],
   "source": [
    "import os\n",
    "import numpy as np\n",
    "from my_data_methods import *"
   ]
  },
  {
   "cell_type": "markdown",
   "metadata": {},
   "source": [
    "## Voxforge"
   ]
  },
  {
   "cell_type": "code",
   "execution_count": 3,
   "metadata": {},
   "outputs": [],
   "source": [
    "relative_path = 'raw/voxforge/'\n",
    "min_duration = 2.50\n",
    "sample_duration = 5"
   ]
  },
  {
   "cell_type": "code",
   "execution_count": 4,
   "metadata": {},
   "outputs": [
    {
     "name": "stdout",
     "output_type": "stream",
     "text": [
      "french: 40022, 37.19260685765588h\n",
      "english: 127567, 119.54895984369365h\n",
      "german: 33815, 31.727374479174134h\n"
     ]
    }
   ],
   "source": [
    "for i, lang in enumerate(['french', 'english', 'german']):\n",
    "    samples_per_language = get_num_samples(relative_path+lang, min_duration=0, sample_duration=5, margin=0) \n",
    "    time = get_total_time(relative_path+lang) \n",
    "    print(f\"{lang}: {samples_per_language}, {time}h\")    "
   ]
  },
  {
   "cell_type": "markdown",
   "metadata": {},
   "source": [
    "## Youtube"
   ]
  },
  {
   "cell_type": "code",
   "execution_count": 5,
   "metadata": {},
   "outputs": [],
   "source": [
    "rp = 'raw/youtube/'\n",
    "channels =[\n",
    "    rp+'fr/bfmtv',\n",
    "    rp+'fr/franceinfo',\n",
    "    rp+'fr/france24',\n",
    "    rp+'en/cnn',\n",
    "    rp+'en/bbc',\n",
    "    rp+'de/ard',\n",
    "    rp+'de/dw',\n",
    "    rp+'de/zdf']"
   ]
  },
  {
   "cell_type": "code",
   "execution_count": 6,
   "metadata": {},
   "outputs": [
    {
     "name": "stdout",
     "output_type": "stream",
     "text": [
      "raw/youtube/fr/bfmtv: 7679, 10.759917378472222h\n",
      "raw/youtube/fr/franceinfo: 12701, 17.78187527777778h\n",
      "raw/youtube/fr/france24: 6380, 8.9593990625h\n",
      "raw/youtube/en/cnn: 11596, 16.42014057291667h\n",
      "raw/youtube/en/bbc: 11450, 16.209508489583325h\n",
      "raw/youtube/de/ard: 7902, 11.05302173611111h\n",
      "raw/youtube/de/dw: 6603, 9.267822916666669h\n",
      "raw/youtube/de/zdf: 3624, 5.1999939583333346h\n"
     ]
    }
   ],
   "source": [
    "for channel in channels:\n",
    "    time = get_total_time(channel) \n",
    "    samples_per_channel = get_num_samples(channel, min_duration=0, sample_duration=5, margin=5) \n",
    "    print(f\"{channel}: {samples_per_channel}, {time}h\")"
   ]
  },
  {
   "cell_type": "code",
   "execution_count": null,
   "metadata": {},
   "outputs": [],
   "source": []
  }
 ],
 "metadata": {
  "kernelspec": {
   "display_name": "deepLID",
   "language": "python",
   "name": "deeplid"
  },
  "language_info": {
   "codemirror_mode": {
    "name": "ipython",
    "version": 3
   },
   "file_extension": ".py",
   "mimetype": "text/x-python",
   "name": "python",
   "nbconvert_exporter": "python",
   "pygments_lexer": "ipython3",
   "version": "3.6.4"
  }
 },
 "nbformat": 4,
 "nbformat_minor": 2
}
